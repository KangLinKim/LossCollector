{
 "cells": [
  {
   "cell_type": "code",
   "execution_count": 1,
   "id": "bf55a14a",
   "metadata": {},
   "outputs": [],
   "source": [
    "import json"
   ]
  },
  {
   "cell_type": "code",
   "execution_count": null,
   "id": "847c74f0",
   "metadata": {},
   "outputs": [],
   "source": [
    "json_info = json.load(open(r'C:\\workspace\\paper_1\\results\\cifar\\dataset_history.json', 'r', encoding='utf-8-sig'))\n",
    "json_info"
   ]
  },
  {
   "cell_type": "code",
   "execution_count": null,
   "id": "c1c27af2",
   "metadata": {},
   "outputs": [],
   "source": []
  }
 ],
 "metadata": {
  "kernelspec": {
   "display_name": "Python 3",
   "language": "python",
   "name": "python3"
  },
  "language_info": {
   "codemirror_mode": {
    "name": "ipython",
    "version": 3
   },
   "file_extension": ".py",
   "mimetype": "text/x-python",
   "name": "python",
   "nbconvert_exporter": "python",
   "pygments_lexer": "ipython3",
   "version": "3.12.10"
  }
 },
 "nbformat": 4,
 "nbformat_minor": 5
}
