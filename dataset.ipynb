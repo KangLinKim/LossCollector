{
 "cells": [
  {
   "cell_type": "code",
   "execution_count": 1,
   "id": "8510c02b",
   "metadata": {},
   "outputs": [
    {
     "name": "stderr",
     "output_type": "stream",
     "text": [
      "c:\\Users\\user\\AppData\\Local\\Programs\\Python\\Python312\\Lib\\site-packages\\tqdm\\auto.py:21: TqdmWarning: IProgress not found. Please update jupyter and ipywidgets. See https://ipywidgets.readthedocs.io/en/stable/user_install.html\n",
      "  from .autonotebook import tqdm as notebook_tqdm\n"
     ]
    }
   ],
   "source": [
    "import torch\n",
    "import torchvision.transforms as transforms\n",
    "import timm\n",
    "from tqdm import tqdm\n",
    "from torch.utils.data import Dataset, Subset, DataLoader, Sampler\n",
    "import glob\n",
    "import os\n",
    "from PIL import Image\n",
    "from collections import defaultdict, Counter\n",
    "import numpy as np\n",
    "import random\n",
    "import torch.nn as nn\n",
    "import torch.nn.functional as F\n",
    "from sklearn.model_selection import train_test_split\n",
    "from sklearn.metrics import precision_score, accuracy_score, recall_score, f1_score, confusion_matrix, roc_auc_score\n",
    "import seaborn as sns\n",
    "from sklearn.manifold import TSNE\n",
    "import json\n",
    "import math\n",
    "\n",
    "os.environ[\"LOKY_MAX_CPU_COUNT\"] = \"6\"\n",
    "\n",
    "SEED = 42"
   ]
  },
  {
   "cell_type": "code",
   "execution_count": 2,
   "id": "d37cc27c",
   "metadata": {},
   "outputs": [
    {
     "data": {
      "text/plain": [
       "DatasetDict({\n",
       "    train: Dataset({\n",
       "        features: ['img', 'label'],\n",
       "        num_rows: 50000\n",
       "    })\n",
       "    test: Dataset({\n",
       "        features: ['img', 'label'],\n",
       "        num_rows: 10000\n",
       "    })\n",
       "})"
      ]
     },
     "execution_count": 2,
     "metadata": {},
     "output_type": "execute_result"
    }
   ],
   "source": [
    "from datasets import load_dataset\n",
    "\n",
    "cifar_dataset = load_dataset(\"uoft-cs/cifar10\")\n",
    "cifar_dataset"
   ]
  },
  {
   "cell_type": "code",
   "execution_count": 6,
   "id": "096c7fc3",
   "metadata": {},
   "outputs": [
    {
     "data": {
      "text/plain": [
       "50000"
      ]
     },
     "execution_count": 6,
     "metadata": {},
     "output_type": "execute_result"
    }
   ],
   "source": [
    "cifar_dataset['train'].num_rows"
   ]
  },
  {
   "cell_type": "code",
   "execution_count": 4,
   "id": "de4bc7e5",
   "metadata": {},
   "outputs": [
    {
     "name": "stderr",
     "output_type": "stream",
     "text": [
      "c:\\Users\\user\\AppData\\Local\\Programs\\Python\\Python312\\Lib\\site-packages\\huggingface_hub\\file_download.py:144: UserWarning: `huggingface_hub` cache-system uses symlinks by default to efficiently store duplicated files but your machine does not support them in C:\\Users\\user\\.cache\\huggingface\\hub\\datasets--mnist. Caching files will still work but in a degraded version that might require more space on your disk. This warning can be disabled by setting the `HF_HUB_DISABLE_SYMLINKS_WARNING` environment variable. For more details, see https://huggingface.co/docs/huggingface_hub/how-to-cache#limitations.\n",
      "To support symlinks on Windows, you either need to activate Developer Mode or to run Python as an administrator. In order to activate developer mode, see this article: https://docs.microsoft.com/en-us/windows/apps/get-started/enable-your-device-for-development\n",
      "  warnings.warn(message)\n",
      "Generating train split: 100%|██████████| 60000/60000 [00:00<00:00, 464169.36 examples/s]\n",
      "Generating test split: 100%|██████████| 10000/10000 [00:00<00:00, 638927.58 examples/s]\n"
     ]
    },
    {
     "data": {
      "text/plain": [
       "DatasetDict({\n",
       "    train: Dataset({\n",
       "        features: ['image', 'label'],\n",
       "        num_rows: 60000\n",
       "    })\n",
       "    test: Dataset({\n",
       "        features: ['image', 'label'],\n",
       "        num_rows: 10000\n",
       "    })\n",
       "})"
      ]
     },
     "execution_count": 4,
     "metadata": {},
     "output_type": "execute_result"
    }
   ],
   "source": [
    "from datasets import load_dataset\n",
    "\n",
    "mnist_dataset = load_dataset(\"mnist\")\n",
    "mnist_dataset"
   ]
  },
  {
   "cell_type": "code",
   "execution_count": 6,
   "id": "78d13335",
   "metadata": {},
   "outputs": [],
   "source": [
    "train_transform = transforms.Compose([\n",
    "    transforms.Resize((224, 224)),\n",
    "    transforms.RandomHorizontalFlip(p=0.5),\n",
    "    transforms.RandomRotation(10),\n",
    "    transforms.ColorJitter(0.1, 0.1, 0.1),\n",
    "    transforms.ToTensor(),\n",
    "    transforms.Normalize(mean=[0.5, 0.5, 0.5], \n",
    "                         std=[0.5, 0.5, 0.5])\n",
    "])\n",
    "\n",
    "valid_transform = transforms.Compose([\n",
    "    transforms.Resize((224, 224)),\n",
    "    transforms.ToTensor(),\n",
    "    transforms.Normalize(mean=[0.5, 0.5, 0.5], \n",
    "                         std=[0.5, 0.5, 0.5])\n",
    "])"
   ]
  },
  {
   "cell_type": "code",
   "execution_count": 7,
   "id": "3d0260e3",
   "metadata": {},
   "outputs": [],
   "source": [
    "class custom_dataset(Dataset):\n",
    "    def __init__(self, vanila_dataset, image_indexes, transform):\n",
    "        self.dataset = vanila_dataset\n",
    "        self.image_indexes = image_indexes\n",
    "\n",
    "        self.transform = transform\n",
    "\n",
    "    def __len__(self):\n",
    "        return len(self.image_indexes)\n",
    "    \n",
    "    def __getitem__(self, index):\n",
    "        selected_index = self.image_indexes[index]\n",
    "        \n",
    "        _image = self.dataset[selected_index]['img']\n",
    "        _image = self.transform(_image)\n",
    "\n",
    "        _label = self.dataset[selected_index]['label']\n",
    "\n",
    "        return _image, _label, selected_index"
   ]
  },
  {
   "cell_type": "code",
   "execution_count": 8,
   "id": "9c921e18",
   "metadata": {},
   "outputs": [],
   "source": [
    "def worker_init_fn(worker_id):\n",
    "    seed = worker_id + SEED\n",
    "\n",
    "    torch.manual_seed(seed)\n",
    "    torch.cuda.manual_seed(seed)\n",
    "    torch.cuda.manual_seed_all(seed)\n",
    "    np.random.seed(seed)\n",
    "    random.seed(seed)\n",
    "    torch.manual_seed(seed)\n",
    "    \n",
    "    return"
   ]
  },
  {
   "cell_type": "code",
   "execution_count": null,
   "id": "bfc4a351",
   "metadata": {},
   "outputs": [],
   "source": [
    "class custom_data_factory():\n",
    "    def __init__(self, train_dataset, test_dataset, sample_num, train_transform, valid_transform):\n",
    "        self.train_data_dict = {}\n",
    "\n",
    "        for i in range(0, train_dataset.num_rows):\n",
    "            _index = i\n",
    "            _label = train_dataset[i]['label']\n",
    "            if self.train_data_dict.get(_label) is None:\n",
    "                self.train_data_dict[_label] = []\n",
    "\n",
    "            self.train_data_dict[_label].append(_index)\n",
    "\n",
    "        self.train_datset = train_dataset\n",
    "        self.test_dataset = test_dataset\n",
    "\n",
    "        self.selected_items = {_label: random.choices(item_index, k=min(len(item_index), sample_num)) for _label, item_index in self.train_data_dict.items()}\n",
    "\n",
    "        self.sample_num = sample_num\n",
    "        self.train_transform = train_transform\n",
    "        self.valid_transform = valid_transform\n",
    "\n",
    "        self.losses = []\n",
    "\n",
    "    def get_data_set(self):\n",
    "        _item_list =  sum(self.selected_items.values(), [])\n",
    "        random.shuffle(_item_list)\n",
    "        \n",
    "        self.train_set = custom_dataset(self.train_datset, _item_list, self.train_transform)\n",
    "        self.valid_set = custom_dataset(self.test_dataset, [i for i in range(0, 10000)], self.valid_transform)\n",
    "\n",
    "        print(f'Train set: {len(self.train_set.image_indexes)}')\n",
    "        print(f'Valid set: {len(self.valid_set.image_indexes)}')\n",
    "\n",
    "        return self.train_set, self.valid_set\n",
    "    \n",
    "    def get_data_loader(self):\n",
    "        train_loader = DataLoader(\n",
    "            self.train_set, pin_memory=True,\n",
    "            batch_size=32,\n",
    "            num_workers=0,\n",
    "        )\n",
    "\n",
    "        valid_loader = DataLoader(\n",
    "            self.valid_set, pin_memory=True,\n",
    "            batch_size=16,\n",
    "            num_workers=0,\n",
    "        )\n",
    "\n",
    "        return train_loader, valid_loader\n",
    "    \n",
    "    def collect_losses(self, _paths, _labels, _losses):\n",
    "        for _path, _label, _loss in zip(_paths, _labels, _losses):\n",
    "            self.losses.append((_path.item(), _label.item(), _loss.item()))\n",
    "\n",
    "    def renew_data_loader(self, resample_ratio):\n",
    "        selected_items_dict = {}\n",
    "        for _path, _label, _loss in self.losses:\n",
    "            if selected_items_dict.get(_label) == None:\n",
    "                selected_items_dict[_label] = []\n",
    "\n",
    "            selected_items_dict[_label].append((_path, _loss))\n",
    "        \n",
    "        selected_items = {}\n",
    "        for _label, _path_list in selected_items_dict.items():\n",
    "            _paths, _weights = zip(*_path_list)\n",
    "            _weights = [(_weight - min(_weights))/(max(_weights)-min(_weights)) for _weight in _weights]\n",
    "\n",
    "            selected_items[_label] = random.choices(_paths,\n",
    "                                                    k=int(self.sample_num * (1-resample_ratio)),\n",
    "                                                    weights=_weights)\n",
    "        \n",
    "        unselected_items = {_label: random.sample([_path for _path in _path_list if _path not in selected_items_dict[_label]],\n",
    "                                                  k=int(self.sample_num * resample_ratio)) for _label, _path_list in self.train_data_dict.items()}\n",
    "\n",
    "        self.selected_items = {}\n",
    "        for (_label, _selected_path_list), (_label, _unselected_path_list) in zip(selected_items.items(), unselected_items.items()):\n",
    "            self.selected_items[_label] = []\n",
    "            self.selected_items[_label].extend(_selected_path_list)\n",
    "            self.selected_items[_label].extend(_unselected_path_list)\n",
    "\n",
    "        # print(self.selected_items)\n",
    "\n",
    "        self.losses = []\n",
    "\n",
    "        self.get_data_set()\n",
    "\n",
    "        return self.get_data_loader()"
   ]
  },
  {
   "cell_type": "code",
   "execution_count": 12,
   "id": "496a45ed",
   "metadata": {},
   "outputs": [],
   "source": [
    "def evaluate(model, valid_loader):\n",
    "    model.eval()\n",
    "    all_probs, all_labels = [], []\n",
    "    \n",
    "    with torch.no_grad():\n",
    "        for images, labels, selected_indexes in tqdm(valid_loader, desc=f'Validating', leave=False):\n",
    "            images, labels = images.to('cuda'), labels.to('cuda')\n",
    "            \n",
    "            outputs = model(images)\n",
    "\n",
    "            probs = F.softmax(outputs, dim=1)\n",
    "\n",
    "            all_probs.append(probs.cpu().numpy().flatten())\n",
    "            all_labels.append(labels.cpu().numpy())\n",
    "        \n",
    "    all_probs_roc = np.array(all_probs).reshape(-1, 10)\n",
    "    all_probs = np.array([np.argmax(_pred) for _pred in all_probs_roc])\n",
    "    all_labels = np.array(all_labels).flatten()\n",
    "\n",
    "    return {\n",
    "        'accuracy': accuracy_score(all_labels, all_probs),\n",
    "        'precision': precision_score(all_labels, all_probs, average='weighted', zero_division=0),\n",
    "        'recall': recall_score(all_labels, all_probs, average='weighted', zero_division=0),\n",
    "        'f1': f1_score(all_labels, all_probs, average='weighted', zero_division=0),\n",
    "        'roc_auc':roc_auc_score(all_labels, all_probs_roc, multi_class='ovr'),\n",
    "        # 'confusion_matrix': confusion_matrix(all_labels, all_probs)\n",
    "    }"
   ]
  },
  {
   "cell_type": "code",
   "execution_count": null,
   "id": "0d3719d0",
   "metadata": {},
   "outputs": [],
   "source": [
    "epochs = 150"
   ]
  },
  {
   "cell_type": "code",
   "execution_count": null,
   "id": "0000d065",
   "metadata": {},
   "outputs": [
    {
     "name": "stdout",
     "output_type": "stream",
     "text": [
      "Train set: 10000\n",
      "Valid set: 10000\n"
     ]
    },
    {
     "name": "stderr",
     "output_type": "stream",
     "text": [
      "                                                                        \r"
     ]
    },
    {
     "name": "stdout",
     "output_type": "stream",
     "text": [
      "Train set: 10000\n",
      "Valid set: 10000\n",
      "0: 1000\n",
      "6: 1000\n",
      "2: 1000\n",
      "7: 1000\n",
      "1: 1000\n",
      "4: 1000\n",
      "5: 1000\n",
      "3: 1000\n",
      "8: 1000\n",
      "9: 1000\n",
      "\n"
     ]
    },
    {
     "name": "stderr",
     "output_type": "stream",
     "text": [
      "                                                                        \r"
     ]
    },
    {
     "name": "stdout",
     "output_type": "stream",
     "text": [
      "Train set: 10000\n",
      "Valid set: 10000\n",
      "0: 1000\n",
      "6: 1000\n",
      "2: 1000\n",
      "7: 1000\n",
      "1: 1000\n",
      "4: 1000\n",
      "5: 1000\n",
      "3: 1000\n",
      "8: 1000\n",
      "9: 1000\n",
      "\n"
     ]
    },
    {
     "name": "stderr",
     "output_type": "stream",
     "text": [
      "                                                                        \r"
     ]
    },
    {
     "name": "stdout",
     "output_type": "stream",
     "text": [
      "Train set: 10000\n",
      "Valid set: 10000\n",
      "0: 1000\n",
      "6: 1000\n",
      "2: 1000\n",
      "7: 1000\n",
      "1: 1000\n",
      "4: 1000\n",
      "5: 1000\n",
      "3: 1000\n",
      "8: 1000\n",
      "9: 1000\n",
      "\n"
     ]
    },
    {
     "name": "stderr",
     "output_type": "stream",
     "text": [
      "                                                                        \r"
     ]
    },
    {
     "name": "stdout",
     "output_type": "stream",
     "text": [
      "Train set: 10000\n",
      "Valid set: 10000\n",
      "0: 1000\n",
      "6: 1000\n",
      "2: 1000\n",
      "7: 1000\n",
      "1: 1000\n",
      "4: 1000\n",
      "5: 1000\n",
      "3: 1000\n",
      "8: 1000\n",
      "9: 1000\n",
      "\n"
     ]
    },
    {
     "name": "stderr",
     "output_type": "stream",
     "text": [
      "                                                                        \r"
     ]
    },
    {
     "name": "stdout",
     "output_type": "stream",
     "text": [
      "Train set: 10000\n",
      "Valid set: 10000\n",
      "0: 1000\n",
      "6: 1000\n",
      "2: 1000\n",
      "7: 1000\n",
      "1: 1000\n",
      "4: 1000\n",
      "5: 1000\n",
      "3: 1000\n",
      "8: 1000\n",
      "9: 1000\n",
      "\n"
     ]
    },
    {
     "name": "stderr",
     "output_type": "stream",
     "text": [
      "                                                                        \r"
     ]
    },
    {
     "name": "stdout",
     "output_type": "stream",
     "text": [
      "Train set: 10000\n",
      "Valid set: 10000\n",
      "0: 1000\n",
      "6: 1000\n",
      "2: 1000\n",
      "7: 1000\n",
      "1: 1000\n",
      "4: 1000\n",
      "5: 1000\n",
      "3: 1000\n",
      "8: 1000\n",
      "9: 1000\n",
      "\n"
     ]
    },
    {
     "name": "stderr",
     "output_type": "stream",
     "text": [
      "                                                                        \r"
     ]
    },
    {
     "name": "stdout",
     "output_type": "stream",
     "text": [
      "Train set: 10000\n",
      "Valid set: 10000\n",
      "0: 1000\n",
      "6: 1000\n",
      "2: 1000\n",
      "7: 1000\n",
      "1: 1000\n",
      "4: 1000\n",
      "5: 1000\n",
      "3: 1000\n",
      "8: 1000\n",
      "9: 1000\n",
      "\n"
     ]
    },
    {
     "name": "stderr",
     "output_type": "stream",
     "text": [
      "                                                                        \r"
     ]
    },
    {
     "name": "stdout",
     "output_type": "stream",
     "text": [
      "Train set: 10000\n",
      "Valid set: 10000\n",
      "0: 1000\n",
      "6: 1000\n",
      "2: 1000\n",
      "7: 1000\n",
      "1: 1000\n",
      "4: 1000\n",
      "5: 1000\n",
      "3: 1000\n",
      "8: 1000\n",
      "9: 1000\n",
      "\n"
     ]
    },
    {
     "name": "stderr",
     "output_type": "stream",
     "text": [
      "                                                                        \r"
     ]
    },
    {
     "name": "stdout",
     "output_type": "stream",
     "text": [
      "Train set: 10000\n",
      "Valid set: 10000\n",
      "0: 1000\n",
      "6: 1000\n",
      "2: 1000\n",
      "7: 1000\n",
      "1: 1000\n",
      "4: 1000\n",
      "5: 1000\n",
      "3: 1000\n",
      "8: 1000\n",
      "9: 1000\n",
      "\n"
     ]
    },
    {
     "name": "stderr",
     "output_type": "stream",
     "text": [
      "                                                                         \r"
     ]
    },
    {
     "name": "stdout",
     "output_type": "stream",
     "text": [
      "Train set: 10000\n",
      "Valid set: 10000\n",
      "0: 1000\n",
      "6: 1000\n",
      "2: 1000\n",
      "7: 1000\n",
      "1: 1000\n",
      "4: 1000\n",
      "5: 1000\n",
      "3: 1000\n",
      "8: 1000\n",
      "9: 1000\n",
      "\n"
     ]
    },
    {
     "name": "stderr",
     "output_type": "stream",
     "text": [
      "                                                                         \r"
     ]
    },
    {
     "name": "stdout",
     "output_type": "stream",
     "text": [
      "Train set: 10000\n",
      "Valid set: 10000\n",
      "0: 1000\n",
      "6: 1000\n",
      "2: 1000\n",
      "7: 1000\n",
      "1: 1000\n",
      "4: 1000\n",
      "5: 1000\n",
      "3: 1000\n",
      "8: 1000\n",
      "9: 1000\n",
      "\n"
     ]
    },
    {
     "name": "stderr",
     "output_type": "stream",
     "text": [
      "                                                                         \r"
     ]
    },
    {
     "name": "stdout",
     "output_type": "stream",
     "text": [
      "Train set: 10000\n",
      "Valid set: 10000\n",
      "0: 1000\n",
      "6: 1000\n",
      "2: 1000\n",
      "7: 1000\n",
      "1: 1000\n",
      "4: 1000\n",
      "5: 1000\n",
      "3: 1000\n",
      "8: 1000\n",
      "9: 1000\n",
      "\n"
     ]
    },
    {
     "name": "stderr",
     "output_type": "stream",
     "text": [
      "                                                                         \r"
     ]
    },
    {
     "name": "stdout",
     "output_type": "stream",
     "text": [
      "Train set: 10000\n",
      "Valid set: 10000\n",
      "0: 1000\n",
      "6: 1000\n",
      "2: 1000\n",
      "7: 1000\n",
      "1: 1000\n",
      "4: 1000\n",
      "5: 1000\n",
      "3: 1000\n",
      "8: 1000\n",
      "9: 1000\n",
      "\n"
     ]
    },
    {
     "name": "stderr",
     "output_type": "stream",
     "text": [
      "                                                                         \r"
     ]
    },
    {
     "name": "stdout",
     "output_type": "stream",
     "text": [
      "Train set: 10000\n",
      "Valid set: 10000\n",
      "0: 1000\n",
      "6: 1000\n",
      "2: 1000\n",
      "7: 1000\n",
      "1: 1000\n",
      "4: 1000\n",
      "5: 1000\n",
      "3: 1000\n",
      "8: 1000\n",
      "9: 1000\n",
      "\n"
     ]
    },
    {
     "name": "stderr",
     "output_type": "stream",
     "text": [
      "                                                                         \r"
     ]
    },
    {
     "name": "stdout",
     "output_type": "stream",
     "text": [
      "Train set: 10000\n",
      "Valid set: 10000\n",
      "0: 1000\n",
      "6: 1000\n",
      "2: 1000\n",
      "7: 1000\n",
      "1: 1000\n",
      "4: 1000\n",
      "5: 1000\n",
      "3: 1000\n",
      "8: 1000\n",
      "9: 1000\n",
      "\n"
     ]
    },
    {
     "name": "stderr",
     "output_type": "stream",
     "text": [
      "                                                                         \r"
     ]
    },
    {
     "name": "stdout",
     "output_type": "stream",
     "text": [
      "Train set: 10000\n",
      "Valid set: 10000\n",
      "0: 1000\n",
      "6: 1000\n",
      "2: 1000\n",
      "7: 1000\n",
      "1: 1000\n",
      "4: 1000\n",
      "5: 1000\n",
      "3: 1000\n",
      "8: 1000\n",
      "9: 1000\n",
      "\n"
     ]
    },
    {
     "name": "stderr",
     "output_type": "stream",
     "text": [
      "                                                                         \r"
     ]
    },
    {
     "name": "stdout",
     "output_type": "stream",
     "text": [
      "Train set: 10000\n",
      "Valid set: 10000\n",
      "0: 1000\n",
      "6: 1000\n",
      "2: 1000\n",
      "7: 1000\n",
      "1: 1000\n",
      "4: 1000\n",
      "5: 1000\n",
      "3: 1000\n",
      "8: 1000\n",
      "9: 1000\n",
      "\n"
     ]
    },
    {
     "name": "stderr",
     "output_type": "stream",
     "text": [
      "                                                                         \r"
     ]
    },
    {
     "name": "stdout",
     "output_type": "stream",
     "text": [
      "Train set: 10000\n",
      "Valid set: 10000\n",
      "0: 1000\n",
      "6: 1000\n",
      "2: 1000\n",
      "7: 1000\n",
      "1: 1000\n",
      "4: 1000\n",
      "5: 1000\n",
      "3: 1000\n",
      "8: 1000\n",
      "9: 1000\n",
      "\n"
     ]
    },
    {
     "name": "stderr",
     "output_type": "stream",
     "text": [
      "                                                                         \r"
     ]
    },
    {
     "name": "stdout",
     "output_type": "stream",
     "text": [
      "Train set: 10000\n",
      "Valid set: 10000\n",
      "0: 1000\n",
      "6: 1000\n",
      "2: 1000\n",
      "7: 1000\n",
      "1: 1000\n",
      "4: 1000\n",
      "5: 1000\n",
      "3: 1000\n",
      "8: 1000\n",
      "9: 1000\n",
      "\n"
     ]
    },
    {
     "name": "stderr",
     "output_type": "stream",
     "text": [
      "                                                                         \r"
     ]
    },
    {
     "name": "stdout",
     "output_type": "stream",
     "text": [
      "Train set: 10000\n",
      "Valid set: 10000\n",
      "0: 1000\n",
      "6: 1000\n",
      "2: 1000\n",
      "7: 1000\n",
      "1: 1000\n",
      "4: 1000\n",
      "5: 1000\n",
      "3: 1000\n",
      "8: 1000\n",
      "9: 1000\n",
      "\n"
     ]
    },
    {
     "name": "stderr",
     "output_type": "stream",
     "text": [
      "                                                                         \r"
     ]
    },
    {
     "name": "stdout",
     "output_type": "stream",
     "text": [
      "Train set: 10000\n",
      "Valid set: 10000\n",
      "0: 1000\n",
      "6: 1000\n",
      "2: 1000\n",
      "7: 1000\n",
      "1: 1000\n",
      "4: 1000\n",
      "5: 1000\n",
      "3: 1000\n",
      "8: 1000\n",
      "9: 1000\n",
      "\n"
     ]
    },
    {
     "name": "stderr",
     "output_type": "stream",
     "text": [
      "                                                                         \r"
     ]
    },
    {
     "name": "stdout",
     "output_type": "stream",
     "text": [
      "Train set: 10000\n",
      "Valid set: 10000\n",
      "0: 1000\n",
      "6: 1000\n",
      "2: 1000\n",
      "7: 1000\n",
      "1: 1000\n",
      "4: 1000\n",
      "5: 1000\n",
      "3: 1000\n",
      "8: 1000\n",
      "9: 1000\n",
      "\n"
     ]
    },
    {
     "name": "stderr",
     "output_type": "stream",
     "text": [
      "                                                                         \r"
     ]
    },
    {
     "name": "stdout",
     "output_type": "stream",
     "text": [
      "Train set: 10000\n",
      "Valid set: 10000\n",
      "0: 1000\n",
      "6: 1000\n",
      "2: 1000\n",
      "7: 1000\n",
      "1: 1000\n",
      "4: 1000\n",
      "5: 1000\n",
      "3: 1000\n",
      "8: 1000\n",
      "9: 1000\n",
      "\n"
     ]
    },
    {
     "name": "stderr",
     "output_type": "stream",
     "text": [
      "                                                                         \r"
     ]
    },
    {
     "name": "stdout",
     "output_type": "stream",
     "text": [
      "Train set: 10000\n",
      "Valid set: 10000\n",
      "0: 1000\n",
      "6: 1000\n",
      "2: 1000\n",
      "7: 1000\n",
      "1: 1000\n",
      "4: 1000\n",
      "5: 1000\n",
      "3: 1000\n",
      "8: 1000\n",
      "9: 1000\n",
      "\n"
     ]
    },
    {
     "name": "stderr",
     "output_type": "stream",
     "text": [
      "                                                                         \r"
     ]
    },
    {
     "name": "stdout",
     "output_type": "stream",
     "text": [
      "Train set: 10000\n",
      "Valid set: 10000\n",
      "0: 1000\n",
      "6: 1000\n",
      "2: 1000\n",
      "7: 1000\n",
      "1: 1000\n",
      "4: 1000\n",
      "5: 1000\n",
      "3: 1000\n",
      "8: 1000\n",
      "9: 1000\n",
      "\n"
     ]
    },
    {
     "name": "stderr",
     "output_type": "stream",
     "text": [
      "                                                                         \r"
     ]
    },
    {
     "name": "stdout",
     "output_type": "stream",
     "text": [
      "Train set: 10000\n",
      "Valid set: 10000\n",
      "0: 1000\n",
      "6: 1000\n",
      "2: 1000\n",
      "7: 1000\n",
      "1: 1000\n",
      "4: 1000\n",
      "5: 1000\n",
      "3: 1000\n",
      "8: 1000\n",
      "9: 1000\n",
      "\n"
     ]
    },
    {
     "name": "stderr",
     "output_type": "stream",
     "text": [
      "                                                                         \r"
     ]
    },
    {
     "name": "stdout",
     "output_type": "stream",
     "text": [
      "Train set: 10000\n",
      "Valid set: 10000\n",
      "0: 1000\n",
      "6: 1000\n",
      "2: 1000\n",
      "7: 1000\n",
      "1: 1000\n",
      "4: 1000\n",
      "5: 1000\n",
      "3: 1000\n",
      "8: 1000\n",
      "9: 1000\n",
      "\n"
     ]
    },
    {
     "name": "stderr",
     "output_type": "stream",
     "text": [
      "                                                                         \r"
     ]
    },
    {
     "name": "stdout",
     "output_type": "stream",
     "text": [
      "Train set: 10000\n",
      "Valid set: 10000\n",
      "0: 1000\n",
      "6: 1000\n",
      "2: 1000\n",
      "7: 1000\n",
      "1: 1000\n",
      "4: 1000\n",
      "5: 1000\n",
      "3: 1000\n",
      "8: 1000\n",
      "9: 1000\n",
      "\n"
     ]
    },
    {
     "name": "stderr",
     "output_type": "stream",
     "text": [
      "                                                                         \r"
     ]
    },
    {
     "name": "stdout",
     "output_type": "stream",
     "text": [
      "Train set: 10000\n",
      "Valid set: 10000\n",
      "0: 1000\n",
      "6: 1000\n",
      "2: 1000\n",
      "7: 1000\n",
      "1: 1000\n",
      "4: 1000\n",
      "5: 1000\n",
      "3: 1000\n",
      "8: 1000\n",
      "9: 1000\n",
      "\n"
     ]
    },
    {
     "name": "stderr",
     "output_type": "stream",
     "text": [
      "                                                                         \r"
     ]
    },
    {
     "name": "stdout",
     "output_type": "stream",
     "text": [
      "Train set: 10000\n",
      "Valid set: 10000\n",
      "0: 1000\n",
      "6: 1000\n",
      "2: 1000\n",
      "7: 1000\n",
      "1: 1000\n",
      "4: 1000\n",
      "5: 1000\n",
      "3: 1000\n",
      "8: 1000\n",
      "9: 1000\n",
      "\n"
     ]
    },
    {
     "name": "stderr",
     "output_type": "stream",
     "text": [
      "                                                                         \r"
     ]
    },
    {
     "name": "stdout",
     "output_type": "stream",
     "text": [
      "Train set: 10000\n",
      "Valid set: 10000\n",
      "0: 1000\n",
      "6: 1000\n",
      "2: 1000\n",
      "7: 1000\n",
      "1: 1000\n",
      "4: 1000\n",
      "5: 1000\n",
      "3: 1000\n",
      "8: 1000\n",
      "9: 1000\n",
      "\n"
     ]
    },
    {
     "name": "stderr",
     "output_type": "stream",
     "text": [
      "                                                                         \r"
     ]
    },
    {
     "name": "stdout",
     "output_type": "stream",
     "text": [
      "Train set: 10000\n",
      "Valid set: 10000\n",
      "0: 1000\n",
      "6: 1000\n",
      "2: 1000\n",
      "7: 1000\n",
      "1: 1000\n",
      "4: 1000\n",
      "5: 1000\n",
      "3: 1000\n",
      "8: 1000\n",
      "9: 1000\n",
      "\n"
     ]
    },
    {
     "name": "stderr",
     "output_type": "stream",
     "text": [
      "                                                                         \r"
     ]
    },
    {
     "name": "stdout",
     "output_type": "stream",
     "text": [
      "Train set: 10000\n",
      "Valid set: 10000\n",
      "0: 1000\n",
      "6: 1000\n",
      "2: 1000\n",
      "7: 1000\n",
      "1: 1000\n",
      "4: 1000\n",
      "5: 1000\n",
      "3: 1000\n",
      "8: 1000\n",
      "9: 1000\n",
      "\n"
     ]
    },
    {
     "name": "stderr",
     "output_type": "stream",
     "text": [
      "                                                                         \r"
     ]
    },
    {
     "name": "stdout",
     "output_type": "stream",
     "text": [
      "Train set: 10000\n",
      "Valid set: 10000\n",
      "0: 1000\n",
      "6: 1000\n",
      "2: 1000\n",
      "7: 1000\n",
      "1: 1000\n",
      "4: 1000\n",
      "5: 1000\n",
      "3: 1000\n",
      "8: 1000\n",
      "9: 1000\n",
      "\n"
     ]
    },
    {
     "name": "stderr",
     "output_type": "stream",
     "text": [
      "                                                                         \r"
     ]
    },
    {
     "name": "stdout",
     "output_type": "stream",
     "text": [
      "Train set: 10000\n",
      "Valid set: 10000\n",
      "0: 1000\n",
      "6: 1000\n",
      "2: 1000\n",
      "7: 1000\n",
      "1: 1000\n",
      "4: 1000\n",
      "5: 1000\n",
      "3: 1000\n",
      "8: 1000\n",
      "9: 1000\n",
      "\n"
     ]
    },
    {
     "name": "stderr",
     "output_type": "stream",
     "text": [
      "                                                                         \r"
     ]
    },
    {
     "name": "stdout",
     "output_type": "stream",
     "text": [
      "Train set: 10000\n",
      "Valid set: 10000\n",
      "0: 1000\n",
      "6: 1000\n",
      "2: 1000\n",
      "7: 1000\n",
      "1: 1000\n",
      "4: 1000\n",
      "5: 1000\n",
      "3: 1000\n",
      "8: 1000\n",
      "9: 1000\n",
      "\n"
     ]
    },
    {
     "name": "stderr",
     "output_type": "stream",
     "text": [
      "                                                                         \r"
     ]
    },
    {
     "name": "stdout",
     "output_type": "stream",
     "text": [
      "Train set: 10000\n",
      "Valid set: 10000\n",
      "0: 1000\n",
      "6: 1000\n",
      "2: 1000\n",
      "7: 1000\n",
      "1: 1000\n",
      "4: 1000\n",
      "5: 1000\n",
      "3: 1000\n",
      "8: 1000\n",
      "9: 1000\n",
      "\n"
     ]
    },
    {
     "name": "stderr",
     "output_type": "stream",
     "text": [
      "                                                                         \r"
     ]
    },
    {
     "name": "stdout",
     "output_type": "stream",
     "text": [
      "Train set: 10000\n",
      "Valid set: 10000\n",
      "0: 1000\n",
      "6: 1000\n",
      "2: 1000\n",
      "7: 1000\n",
      "1: 1000\n",
      "4: 1000\n",
      "5: 1000\n",
      "3: 1000\n",
      "8: 1000\n",
      "9: 1000\n",
      "\n"
     ]
    },
    {
     "name": "stderr",
     "output_type": "stream",
     "text": [
      "                                                                         \r"
     ]
    },
    {
     "name": "stdout",
     "output_type": "stream",
     "text": [
      "Train set: 10000\n",
      "Valid set: 10000\n",
      "0: 1000\n",
      "6: 1000\n",
      "2: 1000\n",
      "7: 1000\n",
      "1: 1000\n",
      "4: 1000\n",
      "5: 1000\n",
      "3: 1000\n",
      "8: 1000\n",
      "9: 1000\n",
      "\n"
     ]
    },
    {
     "name": "stderr",
     "output_type": "stream",
     "text": [
      "                                                                         \r"
     ]
    },
    {
     "name": "stdout",
     "output_type": "stream",
     "text": [
      "Train set: 10000\n",
      "Valid set: 10000\n",
      "0: 1000\n",
      "6: 1000\n",
      "2: 1000\n",
      "7: 1000\n",
      "1: 1000\n",
      "4: 1000\n",
      "5: 1000\n",
      "3: 1000\n",
      "8: 1000\n",
      "9: 1000\n",
      "\n"
     ]
    },
    {
     "name": "stderr",
     "output_type": "stream",
     "text": [
      "                                                                         \r"
     ]
    },
    {
     "name": "stdout",
     "output_type": "stream",
     "text": [
      "Train set: 10000\n",
      "Valid set: 10000\n",
      "0: 1000\n",
      "6: 1000\n",
      "2: 1000\n",
      "7: 1000\n",
      "1: 1000\n",
      "4: 1000\n",
      "5: 1000\n",
      "3: 1000\n",
      "8: 1000\n",
      "9: 1000\n",
      "\n"
     ]
    },
    {
     "name": "stderr",
     "output_type": "stream",
     "text": [
      "                                                                         \r"
     ]
    },
    {
     "name": "stdout",
     "output_type": "stream",
     "text": [
      "Train set: 10000\n",
      "Valid set: 10000\n",
      "0: 1000\n",
      "6: 1000\n",
      "2: 1000\n",
      "7: 1000\n",
      "1: 1000\n",
      "4: 1000\n",
      "5: 1000\n",
      "3: 1000\n",
      "8: 1000\n",
      "9: 1000\n",
      "\n"
     ]
    },
    {
     "name": "stderr",
     "output_type": "stream",
     "text": [
      "                                                                         \r"
     ]
    },
    {
     "name": "stdout",
     "output_type": "stream",
     "text": [
      "Train set: 10000\n",
      "Valid set: 10000\n",
      "0: 1000\n",
      "6: 1000\n",
      "2: 1000\n",
      "7: 1000\n",
      "1: 1000\n",
      "4: 1000\n",
      "5: 1000\n",
      "3: 1000\n",
      "8: 1000\n",
      "9: 1000\n",
      "\n"
     ]
    },
    {
     "name": "stderr",
     "output_type": "stream",
     "text": [
      "                                                                         \r"
     ]
    },
    {
     "name": "stdout",
     "output_type": "stream",
     "text": [
      "Train set: 10000\n",
      "Valid set: 10000\n",
      "0: 1000\n",
      "6: 1000\n",
      "2: 1000\n",
      "7: 1000\n",
      "1: 1000\n",
      "4: 1000\n",
      "5: 1000\n",
      "3: 1000\n",
      "8: 1000\n",
      "9: 1000\n",
      "\n"
     ]
    },
    {
     "name": "stderr",
     "output_type": "stream",
     "text": [
      "                                                                         \r"
     ]
    },
    {
     "name": "stdout",
     "output_type": "stream",
     "text": [
      "Train set: 10000\n",
      "Valid set: 10000\n",
      "0: 1000\n",
      "6: 1000\n",
      "2: 1000\n",
      "7: 1000\n",
      "1: 1000\n",
      "4: 1000\n",
      "5: 1000\n",
      "3: 1000\n",
      "8: 1000\n",
      "9: 1000\n",
      "\n"
     ]
    },
    {
     "name": "stderr",
     "output_type": "stream",
     "text": [
      "                                                                         \r"
     ]
    },
    {
     "name": "stdout",
     "output_type": "stream",
     "text": [
      "Train set: 10000\n",
      "Valid set: 10000\n",
      "0: 1000\n",
      "6: 1000\n",
      "2: 1000\n",
      "7: 1000\n",
      "1: 1000\n",
      "4: 1000\n",
      "5: 1000\n",
      "3: 1000\n",
      "8: 1000\n",
      "9: 1000\n",
      "\n"
     ]
    },
    {
     "name": "stderr",
     "output_type": "stream",
     "text": [
      "                                                                         \r"
     ]
    },
    {
     "name": "stdout",
     "output_type": "stream",
     "text": [
      "Train set: 10000\n",
      "Valid set: 10000\n",
      "0: 1000\n",
      "6: 1000\n",
      "2: 1000\n",
      "7: 1000\n",
      "1: 1000\n",
      "4: 1000\n",
      "5: 1000\n",
      "3: 1000\n",
      "8: 1000\n",
      "9: 1000\n",
      "\n"
     ]
    },
    {
     "name": "stderr",
     "output_type": "stream",
     "text": [
      "                                                                         \r"
     ]
    },
    {
     "name": "stdout",
     "output_type": "stream",
     "text": [
      "Train set: 10000\n",
      "Valid set: 10000\n",
      "0: 1000\n",
      "6: 1000\n",
      "2: 1000\n",
      "7: 1000\n",
      "1: 1000\n",
      "4: 1000\n",
      "5: 1000\n",
      "3: 1000\n",
      "8: 1000\n",
      "9: 1000\n",
      "\n"
     ]
    },
    {
     "name": "stderr",
     "output_type": "stream",
     "text": [
      "                                                                         \r"
     ]
    },
    {
     "name": "stdout",
     "output_type": "stream",
     "text": [
      "Train set: 10000\n",
      "Valid set: 10000\n",
      "0: 1000\n",
      "6: 1000\n",
      "2: 1000\n",
      "7: 1000\n",
      "1: 1000\n",
      "4: 1000\n",
      "5: 1000\n",
      "3: 1000\n",
      "8: 1000\n",
      "9: 1000\n",
      "\n"
     ]
    },
    {
     "name": "stderr",
     "output_type": "stream",
     "text": [
      "                                                                         \r"
     ]
    },
    {
     "name": "stdout",
     "output_type": "stream",
     "text": [
      "Train set: 10000\n",
      "Valid set: 10000\n",
      "0: 1000\n",
      "6: 1000\n",
      "2: 1000\n",
      "7: 1000\n",
      "1: 1000\n",
      "4: 1000\n",
      "5: 1000\n",
      "3: 1000\n",
      "8: 1000\n",
      "9: 1000\n",
      "\n"
     ]
    },
    {
     "name": "stderr",
     "output_type": "stream",
     "text": [
      "                                                                         \r"
     ]
    },
    {
     "name": "stdout",
     "output_type": "stream",
     "text": [
      "Train set: 10000\n",
      "Valid set: 10000\n",
      "0: 1000\n",
      "6: 1000\n",
      "2: 1000\n",
      "7: 1000\n",
      "1: 1000\n",
      "4: 1000\n",
      "5: 1000\n",
      "3: 1000\n",
      "8: 1000\n",
      "9: 1000\n",
      "\n"
     ]
    },
    {
     "name": "stderr",
     "output_type": "stream",
     "text": [
      "                                                                         \r"
     ]
    },
    {
     "name": "stdout",
     "output_type": "stream",
     "text": [
      "Train set: 10000\n",
      "Valid set: 10000\n",
      "0: 1000\n",
      "6: 1000\n",
      "2: 1000\n",
      "7: 1000\n",
      "1: 1000\n",
      "4: 1000\n",
      "5: 1000\n",
      "3: 1000\n",
      "8: 1000\n",
      "9: 1000\n",
      "\n"
     ]
    },
    {
     "name": "stderr",
     "output_type": "stream",
     "text": [
      "                                                                         \r"
     ]
    },
    {
     "name": "stdout",
     "output_type": "stream",
     "text": [
      "Train set: 10000\n",
      "Valid set: 10000\n",
      "0: 1000\n",
      "6: 1000\n",
      "2: 1000\n",
      "7: 1000\n",
      "1: 1000\n",
      "4: 1000\n",
      "5: 1000\n",
      "3: 1000\n",
      "8: 1000\n",
      "9: 1000\n",
      "\n"
     ]
    },
    {
     "name": "stderr",
     "output_type": "stream",
     "text": [
      "                                                                         \r"
     ]
    },
    {
     "name": "stdout",
     "output_type": "stream",
     "text": [
      "Train set: 10000\n",
      "Valid set: 10000\n",
      "0: 1000\n",
      "6: 1000\n",
      "2: 1000\n",
      "7: 1000\n",
      "1: 1000\n",
      "4: 1000\n",
      "5: 1000\n",
      "3: 1000\n",
      "8: 1000\n",
      "9: 1000\n",
      "\n"
     ]
    },
    {
     "name": "stderr",
     "output_type": "stream",
     "text": [
      "                                                                         \r"
     ]
    },
    {
     "name": "stdout",
     "output_type": "stream",
     "text": [
      "Train set: 10000\n",
      "Valid set: 10000\n",
      "0: 1000\n",
      "6: 1000\n",
      "2: 1000\n",
      "7: 1000\n",
      "1: 1000\n",
      "4: 1000\n",
      "5: 1000\n",
      "3: 1000\n",
      "8: 1000\n",
      "9: 1000\n",
      "\n"
     ]
    },
    {
     "name": "stderr",
     "output_type": "stream",
     "text": [
      "                                                                         \r"
     ]
    },
    {
     "name": "stdout",
     "output_type": "stream",
     "text": [
      "Train set: 10000\n",
      "Valid set: 10000\n",
      "0: 1000\n",
      "6: 1000\n",
      "2: 1000\n",
      "7: 1000\n",
      "1: 1000\n",
      "4: 1000\n",
      "5: 1000\n",
      "3: 1000\n",
      "8: 1000\n",
      "9: 1000\n",
      "\n"
     ]
    },
    {
     "name": "stderr",
     "output_type": "stream",
     "text": [
      "                                                                         \r"
     ]
    },
    {
     "name": "stdout",
     "output_type": "stream",
     "text": [
      "Train set: 10000\n",
      "Valid set: 10000\n",
      "0: 1000\n",
      "6: 1000\n",
      "2: 1000\n",
      "7: 1000\n",
      "1: 1000\n",
      "4: 1000\n",
      "5: 1000\n",
      "3: 1000\n",
      "8: 1000\n",
      "9: 1000\n",
      "\n"
     ]
    },
    {
     "name": "stderr",
     "output_type": "stream",
     "text": [
      "                                                                         \r"
     ]
    },
    {
     "name": "stdout",
     "output_type": "stream",
     "text": [
      "Train set: 10000\n",
      "Valid set: 10000\n",
      "0: 1000\n",
      "6: 1000\n",
      "2: 1000\n",
      "7: 1000\n",
      "1: 1000\n",
      "4: 1000\n",
      "5: 1000\n",
      "3: 1000\n",
      "8: 1000\n",
      "9: 1000\n",
      "\n"
     ]
    },
    {
     "name": "stderr",
     "output_type": "stream",
     "text": [
      "                                                                         \r"
     ]
    },
    {
     "name": "stdout",
     "output_type": "stream",
     "text": [
      "Train set: 10000\n",
      "Valid set: 10000\n",
      "0: 1000\n",
      "6: 1000\n",
      "2: 1000\n",
      "7: 1000\n",
      "1: 1000\n",
      "4: 1000\n",
      "5: 1000\n",
      "3: 1000\n",
      "8: 1000\n",
      "9: 1000\n",
      "\n"
     ]
    },
    {
     "name": "stderr",
     "output_type": "stream",
     "text": [
      "                                                                         \r"
     ]
    },
    {
     "name": "stdout",
     "output_type": "stream",
     "text": [
      "Train set: 10000\n",
      "Valid set: 10000\n",
      "0: 1000\n",
      "6: 1000\n",
      "2: 1000\n",
      "7: 1000\n",
      "1: 1000\n",
      "4: 1000\n",
      "5: 1000\n",
      "3: 1000\n",
      "8: 1000\n",
      "9: 1000\n",
      "\n"
     ]
    },
    {
     "name": "stderr",
     "output_type": "stream",
     "text": [
      "                                                                         \r"
     ]
    },
    {
     "name": "stdout",
     "output_type": "stream",
     "text": [
      "Train set: 10000\n",
      "Valid set: 10000\n",
      "0: 1000\n",
      "6: 1000\n",
      "2: 1000\n",
      "7: 1000\n",
      "1: 1000\n",
      "4: 1000\n",
      "5: 1000\n",
      "3: 1000\n",
      "8: 1000\n",
      "9: 1000\n",
      "\n"
     ]
    },
    {
     "name": "stderr",
     "output_type": "stream",
     "text": [
      "                                                                         \r"
     ]
    },
    {
     "name": "stdout",
     "output_type": "stream",
     "text": [
      "Train set: 10000\n",
      "Valid set: 10000\n",
      "0: 1000\n",
      "6: 1000\n",
      "2: 1000\n",
      "7: 1000\n",
      "1: 1000\n",
      "4: 1000\n",
      "5: 1000\n",
      "3: 1000\n",
      "8: 1000\n",
      "9: 1000\n",
      "\n"
     ]
    },
    {
     "name": "stderr",
     "output_type": "stream",
     "text": [
      "                                                                         \r"
     ]
    },
    {
     "name": "stdout",
     "output_type": "stream",
     "text": [
      "Train set: 10000\n",
      "Valid set: 10000\n",
      "0: 1000\n",
      "6: 1000\n",
      "2: 1000\n",
      "7: 1000\n",
      "1: 1000\n",
      "4: 1000\n",
      "5: 1000\n",
      "3: 1000\n",
      "8: 1000\n",
      "9: 1000\n",
      "\n"
     ]
    },
    {
     "name": "stderr",
     "output_type": "stream",
     "text": [
      "                                                                         \r"
     ]
    },
    {
     "name": "stdout",
     "output_type": "stream",
     "text": [
      "Train set: 10000\n",
      "Valid set: 10000\n",
      "0: 1000\n",
      "6: 1000\n",
      "2: 1000\n",
      "7: 1000\n",
      "1: 1000\n",
      "4: 1000\n",
      "5: 1000\n",
      "3: 1000\n",
      "8: 1000\n",
      "9: 1000\n",
      "\n"
     ]
    },
    {
     "name": "stderr",
     "output_type": "stream",
     "text": [
      "                                                                         \r"
     ]
    },
    {
     "name": "stdout",
     "output_type": "stream",
     "text": [
      "Train set: 10000\n",
      "Valid set: 10000\n",
      "0: 1000\n",
      "6: 1000\n",
      "2: 1000\n",
      "7: 1000\n",
      "1: 1000\n",
      "4: 1000\n",
      "5: 1000\n",
      "3: 1000\n",
      "8: 1000\n",
      "9: 1000\n",
      "\n"
     ]
    },
    {
     "name": "stderr",
     "output_type": "stream",
     "text": [
      "                                                                         \r"
     ]
    },
    {
     "name": "stdout",
     "output_type": "stream",
     "text": [
      "Train set: 10000\n",
      "Valid set: 10000\n",
      "0: 1000\n",
      "6: 1000\n",
      "2: 1000\n",
      "7: 1000\n",
      "1: 1000\n",
      "4: 1000\n",
      "5: 1000\n",
      "3: 1000\n",
      "8: 1000\n",
      "9: 1000\n",
      "\n"
     ]
    },
    {
     "name": "stderr",
     "output_type": "stream",
     "text": [
      "                                                                         \r"
     ]
    },
    {
     "name": "stdout",
     "output_type": "stream",
     "text": [
      "Train set: 10000\n",
      "Valid set: 10000\n",
      "0: 1000\n",
      "6: 1000\n",
      "2: 1000\n",
      "7: 1000\n",
      "1: 1000\n",
      "4: 1000\n",
      "5: 1000\n",
      "3: 1000\n",
      "8: 1000\n",
      "9: 1000\n",
      "\n"
     ]
    },
    {
     "name": "stderr",
     "output_type": "stream",
     "text": [
      "                                                                         \r"
     ]
    },
    {
     "name": "stdout",
     "output_type": "stream",
     "text": [
      "Train set: 10000\n",
      "Valid set: 10000\n",
      "0: 1000\n",
      "6: 1000\n",
      "2: 1000\n",
      "7: 1000\n",
      "1: 1000\n",
      "4: 1000\n",
      "5: 1000\n",
      "3: 1000\n",
      "8: 1000\n",
      "9: 1000\n",
      "\n"
     ]
    },
    {
     "name": "stderr",
     "output_type": "stream",
     "text": [
      "                                                                         \r"
     ]
    },
    {
     "name": "stdout",
     "output_type": "stream",
     "text": [
      "Train set: 10000\n",
      "Valid set: 10000\n",
      "0: 1000\n",
      "6: 1000\n",
      "2: 1000\n",
      "7: 1000\n",
      "1: 1000\n",
      "4: 1000\n",
      "5: 1000\n",
      "3: 1000\n",
      "8: 1000\n",
      "9: 1000\n",
      "\n"
     ]
    },
    {
     "name": "stderr",
     "output_type": "stream",
     "text": [
      "                                                                         \r"
     ]
    },
    {
     "name": "stdout",
     "output_type": "stream",
     "text": [
      "Train set: 10000\n",
      "Valid set: 10000\n",
      "0: 1000\n",
      "6: 1000\n",
      "2: 1000\n",
      "7: 1000\n",
      "1: 1000\n",
      "4: 1000\n",
      "5: 1000\n",
      "3: 1000\n",
      "8: 1000\n",
      "9: 1000\n",
      "\n"
     ]
    },
    {
     "name": "stderr",
     "output_type": "stream",
     "text": [
      "                                                                         \r"
     ]
    },
    {
     "name": "stdout",
     "output_type": "stream",
     "text": [
      "Train set: 10000\n",
      "Valid set: 10000\n",
      "0: 1000\n",
      "6: 1000\n",
      "2: 1000\n",
      "7: 1000\n",
      "1: 1000\n",
      "4: 1000\n",
      "5: 1000\n",
      "3: 1000\n",
      "8: 1000\n",
      "9: 1000\n",
      "\n"
     ]
    },
    {
     "name": "stderr",
     "output_type": "stream",
     "text": [
      "                                                                         \r"
     ]
    },
    {
     "name": "stdout",
     "output_type": "stream",
     "text": [
      "Train set: 10000\n",
      "Valid set: 10000\n",
      "0: 1000\n",
      "6: 1000\n",
      "2: 1000\n",
      "7: 1000\n",
      "1: 1000\n",
      "4: 1000\n",
      "5: 1000\n",
      "3: 1000\n",
      "8: 1000\n",
      "9: 1000\n",
      "\n"
     ]
    },
    {
     "name": "stderr",
     "output_type": "stream",
     "text": [
      "                                                                         \r"
     ]
    },
    {
     "name": "stdout",
     "output_type": "stream",
     "text": [
      "Train set: 10000\n",
      "Valid set: 10000\n",
      "0: 1000\n",
      "6: 1000\n",
      "2: 1000\n",
      "7: 1000\n",
      "1: 1000\n",
      "4: 1000\n",
      "5: 1000\n",
      "3: 1000\n",
      "8: 1000\n",
      "9: 1000\n",
      "\n"
     ]
    },
    {
     "name": "stderr",
     "output_type": "stream",
     "text": [
      "                                                                         \r"
     ]
    },
    {
     "name": "stdout",
     "output_type": "stream",
     "text": [
      "Train set: 10000\n",
      "Valid set: 10000\n",
      "0: 1000\n",
      "6: 1000\n",
      "2: 1000\n",
      "7: 1000\n",
      "1: 1000\n",
      "4: 1000\n",
      "5: 1000\n",
      "3: 1000\n",
      "8: 1000\n",
      "9: 1000\n",
      "\n"
     ]
    },
    {
     "name": "stderr",
     "output_type": "stream",
     "text": [
      "                                                                         \r"
     ]
    },
    {
     "name": "stdout",
     "output_type": "stream",
     "text": [
      "Train set: 10000\n",
      "Valid set: 10000\n",
      "0: 1000\n",
      "6: 1000\n",
      "2: 1000\n",
      "7: 1000\n",
      "1: 1000\n",
      "4: 1000\n",
      "5: 1000\n",
      "3: 1000\n",
      "8: 1000\n",
      "9: 1000\n",
      "\n"
     ]
    },
    {
     "name": "stderr",
     "output_type": "stream",
     "text": [
      "                                                                         \r"
     ]
    },
    {
     "name": "stdout",
     "output_type": "stream",
     "text": [
      "Train set: 10000\n",
      "Valid set: 10000\n",
      "0: 1000\n",
      "6: 1000\n",
      "2: 1000\n",
      "7: 1000\n",
      "1: 1000\n",
      "4: 1000\n",
      "5: 1000\n",
      "3: 1000\n",
      "8: 1000\n",
      "9: 1000\n",
      "\n"
     ]
    },
    {
     "name": "stderr",
     "output_type": "stream",
     "text": [
      "                                                                         \r"
     ]
    },
    {
     "name": "stdout",
     "output_type": "stream",
     "text": [
      "Train set: 10000\n",
      "Valid set: 10000\n",
      "0: 1000\n",
      "6: 1000\n",
      "2: 1000\n",
      "7: 1000\n",
      "1: 1000\n",
      "4: 1000\n",
      "5: 1000\n",
      "3: 1000\n",
      "8: 1000\n",
      "9: 1000\n",
      "\n"
     ]
    },
    {
     "name": "stderr",
     "output_type": "stream",
     "text": [
      "                                                                         \r"
     ]
    },
    {
     "name": "stdout",
     "output_type": "stream",
     "text": [
      "Train set: 10000\n",
      "Valid set: 10000\n",
      "0: 1000\n",
      "6: 1000\n",
      "2: 1000\n",
      "7: 1000\n",
      "1: 1000\n",
      "4: 1000\n",
      "5: 1000\n",
      "3: 1000\n",
      "8: 1000\n",
      "9: 1000\n",
      "\n"
     ]
    },
    {
     "name": "stderr",
     "output_type": "stream",
     "text": [
      "                                                                         \r"
     ]
    },
    {
     "name": "stdout",
     "output_type": "stream",
     "text": [
      "Train set: 10000\n",
      "Valid set: 10000\n",
      "0: 1000\n",
      "6: 1000\n",
      "2: 1000\n",
      "7: 1000\n",
      "1: 1000\n",
      "4: 1000\n",
      "5: 1000\n",
      "3: 1000\n",
      "8: 1000\n",
      "9: 1000\n",
      "\n"
     ]
    },
    {
     "name": "stderr",
     "output_type": "stream",
     "text": [
      "                                                                         \r"
     ]
    },
    {
     "name": "stdout",
     "output_type": "stream",
     "text": [
      "Train set: 10000\n",
      "Valid set: 10000\n",
      "0: 1000\n",
      "6: 1000\n",
      "2: 1000\n",
      "7: 1000\n",
      "1: 1000\n",
      "4: 1000\n",
      "5: 1000\n",
      "3: 1000\n",
      "8: 1000\n",
      "9: 1000\n",
      "\n"
     ]
    },
    {
     "name": "stderr",
     "output_type": "stream",
     "text": [
      "                                                                         \r"
     ]
    },
    {
     "name": "stdout",
     "output_type": "stream",
     "text": [
      "Train set: 10000\n",
      "Valid set: 10000\n",
      "0: 1000\n",
      "6: 1000\n",
      "2: 1000\n",
      "7: 1000\n",
      "1: 1000\n",
      "4: 1000\n",
      "5: 1000\n",
      "3: 1000\n",
      "8: 1000\n",
      "9: 1000\n",
      "\n"
     ]
    },
    {
     "name": "stderr",
     "output_type": "stream",
     "text": [
      "                                                                         \r"
     ]
    },
    {
     "name": "stdout",
     "output_type": "stream",
     "text": [
      "Train set: 10000\n",
      "Valid set: 10000\n",
      "0: 1000\n",
      "6: 1000\n",
      "2: 1000\n",
      "7: 1000\n",
      "1: 1000\n",
      "4: 1000\n",
      "5: 1000\n",
      "3: 1000\n",
      "8: 1000\n",
      "9: 1000\n",
      "\n"
     ]
    },
    {
     "name": "stderr",
     "output_type": "stream",
     "text": [
      "                                                                         \r"
     ]
    },
    {
     "name": "stdout",
     "output_type": "stream",
     "text": [
      "Train set: 10000\n",
      "Valid set: 10000\n",
      "0: 1000\n",
      "6: 1000\n",
      "2: 1000\n",
      "7: 1000\n",
      "1: 1000\n",
      "4: 1000\n",
      "5: 1000\n",
      "3: 1000\n",
      "8: 1000\n",
      "9: 1000\n",
      "\n"
     ]
    },
    {
     "name": "stderr",
     "output_type": "stream",
     "text": [
      "                                                                         \r"
     ]
    },
    {
     "name": "stdout",
     "output_type": "stream",
     "text": [
      "Train set: 10000\n",
      "Valid set: 10000\n",
      "0: 1000\n",
      "6: 1000\n",
      "2: 1000\n",
      "7: 1000\n",
      "1: 1000\n",
      "4: 1000\n",
      "5: 1000\n",
      "3: 1000\n",
      "8: 1000\n",
      "9: 1000\n",
      "\n"
     ]
    },
    {
     "name": "stderr",
     "output_type": "stream",
     "text": [
      "                                                                         \r"
     ]
    },
    {
     "name": "stdout",
     "output_type": "stream",
     "text": [
      "Train set: 10000\n",
      "Valid set: 10000\n",
      "0: 1000\n",
      "6: 1000\n",
      "2: 1000\n",
      "7: 1000\n",
      "1: 1000\n",
      "4: 1000\n",
      "5: 1000\n",
      "3: 1000\n",
      "8: 1000\n",
      "9: 1000\n",
      "\n"
     ]
    },
    {
     "name": "stderr",
     "output_type": "stream",
     "text": [
      "                                                                         \r"
     ]
    },
    {
     "name": "stdout",
     "output_type": "stream",
     "text": [
      "Train set: 10000\n",
      "Valid set: 10000\n",
      "0: 1000\n",
      "6: 1000\n",
      "2: 1000\n",
      "7: 1000\n",
      "1: 1000\n",
      "4: 1000\n",
      "5: 1000\n",
      "3: 1000\n",
      "8: 1000\n",
      "9: 1000\n",
      "\n"
     ]
    },
    {
     "name": "stderr",
     "output_type": "stream",
     "text": [
      "                                                                         \r"
     ]
    },
    {
     "name": "stdout",
     "output_type": "stream",
     "text": [
      "Train set: 10000\n",
      "Valid set: 10000\n",
      "0: 1000\n",
      "6: 1000\n",
      "2: 1000\n",
      "7: 1000\n",
      "1: 1000\n",
      "4: 1000\n",
      "5: 1000\n",
      "3: 1000\n",
      "8: 1000\n",
      "9: 1000\n",
      "\n"
     ]
    },
    {
     "name": "stderr",
     "output_type": "stream",
     "text": [
      "                                                                         \r"
     ]
    },
    {
     "name": "stdout",
     "output_type": "stream",
     "text": [
      "Train set: 10000\n",
      "Valid set: 10000\n",
      "0: 1000\n",
      "6: 1000\n",
      "2: 1000\n",
      "7: 1000\n",
      "1: 1000\n",
      "4: 1000\n",
      "5: 1000\n",
      "3: 1000\n",
      "8: 1000\n",
      "9: 1000\n",
      "\n"
     ]
    },
    {
     "name": "stderr",
     "output_type": "stream",
     "text": [
      "                                                                         \r"
     ]
    },
    {
     "name": "stdout",
     "output_type": "stream",
     "text": [
      "Train set: 10000\n",
      "Valid set: 10000\n",
      "0: 1000\n",
      "6: 1000\n",
      "2: 1000\n",
      "7: 1000\n",
      "1: 1000\n",
      "4: 1000\n",
      "5: 1000\n",
      "3: 1000\n",
      "8: 1000\n",
      "9: 1000\n",
      "\n"
     ]
    },
    {
     "name": "stderr",
     "output_type": "stream",
     "text": [
      "                                                                         \r"
     ]
    },
    {
     "name": "stdout",
     "output_type": "stream",
     "text": [
      "Train set: 10000\n",
      "Valid set: 10000\n",
      "0: 1000\n",
      "6: 1000\n",
      "2: 1000\n",
      "7: 1000\n",
      "1: 1000\n",
      "4: 1000\n",
      "5: 1000\n",
      "3: 1000\n",
      "8: 1000\n",
      "9: 1000\n",
      "\n"
     ]
    },
    {
     "name": "stderr",
     "output_type": "stream",
     "text": [
      "                                                                         \r"
     ]
    },
    {
     "name": "stdout",
     "output_type": "stream",
     "text": [
      "Train set: 10000\n",
      "Valid set: 10000\n",
      "0: 1000\n",
      "6: 1000\n",
      "2: 1000\n",
      "7: 1000\n",
      "1: 1000\n",
      "4: 1000\n",
      "5: 1000\n",
      "3: 1000\n",
      "8: 1000\n",
      "9: 1000\n",
      "\n"
     ]
    },
    {
     "name": "stderr",
     "output_type": "stream",
     "text": [
      "                                                                         \r"
     ]
    },
    {
     "name": "stdout",
     "output_type": "stream",
     "text": [
      "Train set: 10000\n",
      "Valid set: 10000\n",
      "0: 1000\n",
      "6: 1000\n",
      "2: 1000\n",
      "7: 1000\n",
      "1: 1000\n",
      "4: 1000\n",
      "5: 1000\n",
      "3: 1000\n",
      "8: 1000\n",
      "9: 1000\n",
      "\n"
     ]
    },
    {
     "name": "stderr",
     "output_type": "stream",
     "text": [
      "                                                                         \r"
     ]
    },
    {
     "name": "stdout",
     "output_type": "stream",
     "text": [
      "Train set: 10000\n",
      "Valid set: 10000\n",
      "0: 1000\n",
      "6: 1000\n",
      "2: 1000\n",
      "7: 1000\n",
      "1: 1000\n",
      "4: 1000\n",
      "5: 1000\n",
      "3: 1000\n",
      "8: 1000\n",
      "9: 1000\n",
      "\n"
     ]
    },
    {
     "name": "stderr",
     "output_type": "stream",
     "text": [
      "                                                                         \r"
     ]
    },
    {
     "name": "stdout",
     "output_type": "stream",
     "text": [
      "Train set: 10000\n",
      "Valid set: 10000\n",
      "0: 1000\n",
      "6: 1000\n",
      "2: 1000\n",
      "7: 1000\n",
      "1: 1000\n",
      "4: 1000\n",
      "5: 1000\n",
      "3: 1000\n",
      "8: 1000\n",
      "9: 1000\n",
      "\n"
     ]
    },
    {
     "name": "stderr",
     "output_type": "stream",
     "text": [
      "                                                                         \r"
     ]
    },
    {
     "name": "stdout",
     "output_type": "stream",
     "text": [
      "Train set: 10000\n",
      "Valid set: 10000\n",
      "0: 1000\n",
      "6: 1000\n",
      "2: 1000\n",
      "7: 1000\n",
      "1: 1000\n",
      "4: 1000\n",
      "5: 1000\n",
      "3: 1000\n",
      "8: 1000\n",
      "9: 1000\n",
      "\n"
     ]
    },
    {
     "name": "stderr",
     "output_type": "stream",
     "text": [
      "                                                                         \r"
     ]
    },
    {
     "name": "stdout",
     "output_type": "stream",
     "text": [
      "Train set: 10000\n",
      "Valid set: 10000\n",
      "0: 1000\n",
      "6: 1000\n",
      "2: 1000\n",
      "7: 1000\n",
      "1: 1000\n",
      "4: 1000\n",
      "5: 1000\n",
      "3: 1000\n",
      "8: 1000\n",
      "9: 1000\n",
      "\n"
     ]
    },
    {
     "name": "stderr",
     "output_type": "stream",
     "text": [
      "                                                                         \r"
     ]
    },
    {
     "name": "stdout",
     "output_type": "stream",
     "text": [
      "Train set: 10000\n",
      "Valid set: 10000\n",
      "0: 1000\n",
      "6: 1000\n",
      "2: 1000\n",
      "7: 1000\n",
      "1: 1000\n",
      "4: 1000\n",
      "5: 1000\n",
      "3: 1000\n",
      "8: 1000\n",
      "9: 1000\n",
      "\n"
     ]
    },
    {
     "name": "stderr",
     "output_type": "stream",
     "text": [
      "                                                                         \r"
     ]
    },
    {
     "name": "stdout",
     "output_type": "stream",
     "text": [
      "Train set: 10000\n",
      "Valid set: 10000\n",
      "0: 1000\n",
      "6: 1000\n",
      "2: 1000\n",
      "7: 1000\n",
      "1: 1000\n",
      "4: 1000\n",
      "5: 1000\n",
      "3: 1000\n",
      "8: 1000\n",
      "9: 1000\n",
      "\n"
     ]
    },
    {
     "name": "stderr",
     "output_type": "stream",
     "text": [
      "                                                                         \r"
     ]
    },
    {
     "name": "stdout",
     "output_type": "stream",
     "text": [
      "Train set: 10000\n",
      "Valid set: 10000\n",
      "0: 1000\n",
      "6: 1000\n",
      "2: 1000\n",
      "7: 1000\n",
      "1: 1000\n",
      "4: 1000\n",
      "5: 1000\n",
      "3: 1000\n",
      "8: 1000\n",
      "9: 1000\n",
      "\n"
     ]
    },
    {
     "name": "stderr",
     "output_type": "stream",
     "text": [
      "                                                                          \r"
     ]
    },
    {
     "name": "stdout",
     "output_type": "stream",
     "text": [
      "Train set: 10000\n",
      "Valid set: 10000\n",
      "0: 1000\n",
      "6: 1000\n",
      "2: 1000\n",
      "7: 1000\n",
      "1: 1000\n",
      "4: 1000\n",
      "5: 1000\n",
      "3: 1000\n",
      "8: 1000\n",
      "9: 1000\n",
      "\n"
     ]
    },
    {
     "name": "stderr",
     "output_type": "stream",
     "text": [
      "                                                                          \r"
     ]
    },
    {
     "name": "stdout",
     "output_type": "stream",
     "text": [
      "Train set: 10000\n",
      "Valid set: 10000\n",
      "0: 1000\n",
      "6: 1000\n",
      "2: 1000\n",
      "7: 1000\n",
      "1: 1000\n",
      "4: 1000\n",
      "5: 1000\n",
      "3: 1000\n",
      "8: 1000\n",
      "9: 1000\n",
      "\n"
     ]
    },
    {
     "name": "stderr",
     "output_type": "stream",
     "text": [
      "                                                                          \r"
     ]
    },
    {
     "name": "stdout",
     "output_type": "stream",
     "text": [
      "Train set: 10000\n",
      "Valid set: 10000\n",
      "0: 1000\n",
      "6: 1000\n",
      "2: 1000\n",
      "7: 1000\n",
      "1: 1000\n",
      "4: 1000\n",
      "5: 1000\n",
      "3: 1000\n",
      "8: 1000\n",
      "9: 1000\n",
      "\n"
     ]
    },
    {
     "name": "stderr",
     "output_type": "stream",
     "text": [
      "                                                                          \r"
     ]
    },
    {
     "name": "stdout",
     "output_type": "stream",
     "text": [
      "Train set: 10000\n",
      "Valid set: 10000\n",
      "0: 1000\n",
      "6: 1000\n",
      "2: 1000\n",
      "7: 1000\n",
      "1: 1000\n",
      "4: 1000\n",
      "5: 1000\n",
      "3: 1000\n",
      "8: 1000\n",
      "9: 1000\n",
      "\n"
     ]
    },
    {
     "name": "stderr",
     "output_type": "stream",
     "text": [
      "                                                                          \r"
     ]
    },
    {
     "name": "stdout",
     "output_type": "stream",
     "text": [
      "Train set: 10000\n",
      "Valid set: 10000\n",
      "0: 1000\n",
      "6: 1000\n",
      "2: 1000\n",
      "7: 1000\n",
      "1: 1000\n",
      "4: 1000\n",
      "5: 1000\n",
      "3: 1000\n",
      "8: 1000\n",
      "9: 1000\n",
      "\n"
     ]
    },
    {
     "name": "stderr",
     "output_type": "stream",
     "text": [
      "                                                                          \r"
     ]
    },
    {
     "name": "stdout",
     "output_type": "stream",
     "text": [
      "Train set: 10000\n",
      "Valid set: 10000\n",
      "0: 1000\n",
      "6: 1000\n",
      "2: 1000\n",
      "7: 1000\n",
      "1: 1000\n",
      "4: 1000\n",
      "5: 1000\n",
      "3: 1000\n",
      "8: 1000\n",
      "9: 1000\n",
      "\n"
     ]
    },
    {
     "name": "stderr",
     "output_type": "stream",
     "text": [
      "                                                                          \r"
     ]
    },
    {
     "name": "stdout",
     "output_type": "stream",
     "text": [
      "Train set: 10000\n",
      "Valid set: 10000\n",
      "0: 1000\n",
      "6: 1000\n",
      "2: 1000\n",
      "7: 1000\n",
      "1: 1000\n",
      "4: 1000\n",
      "5: 1000\n",
      "3: 1000\n",
      "8: 1000\n",
      "9: 1000\n",
      "\n"
     ]
    },
    {
     "name": "stderr",
     "output_type": "stream",
     "text": [
      "                                                                          \r"
     ]
    },
    {
     "name": "stdout",
     "output_type": "stream",
     "text": [
      "Train set: 10000\n",
      "Valid set: 10000\n",
      "0: 1000\n",
      "6: 1000\n",
      "2: 1000\n",
      "7: 1000\n",
      "1: 1000\n",
      "4: 1000\n",
      "5: 1000\n",
      "3: 1000\n",
      "8: 1000\n",
      "9: 1000\n",
      "\n"
     ]
    },
    {
     "name": "stderr",
     "output_type": "stream",
     "text": [
      "                                                                          \r"
     ]
    },
    {
     "name": "stdout",
     "output_type": "stream",
     "text": [
      "Train set: 10000\n",
      "Valid set: 10000\n",
      "0: 1000\n",
      "6: 1000\n",
      "2: 1000\n",
      "7: 1000\n",
      "1: 1000\n",
      "4: 1000\n",
      "5: 1000\n",
      "3: 1000\n",
      "8: 1000\n",
      "9: 1000\n",
      "\n"
     ]
    },
    {
     "name": "stderr",
     "output_type": "stream",
     "text": [
      "                                                                          \r"
     ]
    },
    {
     "name": "stdout",
     "output_type": "stream",
     "text": [
      "Train set: 10000\n",
      "Valid set: 10000\n",
      "0: 1000\n",
      "6: 1000\n",
      "2: 1000\n",
      "7: 1000\n",
      "1: 1000\n",
      "4: 1000\n",
      "5: 1000\n",
      "3: 1000\n",
      "8: 1000\n",
      "9: 1000\n",
      "\n"
     ]
    },
    {
     "name": "stderr",
     "output_type": "stream",
     "text": [
      "                                                                          \r"
     ]
    },
    {
     "name": "stdout",
     "output_type": "stream",
     "text": [
      "Train set: 10000\n",
      "Valid set: 10000\n",
      "0: 1000\n",
      "6: 1000\n",
      "2: 1000\n",
      "7: 1000\n",
      "1: 1000\n",
      "4: 1000\n",
      "5: 1000\n",
      "3: 1000\n",
      "8: 1000\n",
      "9: 1000\n",
      "\n"
     ]
    },
    {
     "name": "stderr",
     "output_type": "stream",
     "text": [
      "                                                                          \r"
     ]
    },
    {
     "name": "stdout",
     "output_type": "stream",
     "text": [
      "Train set: 10000\n",
      "Valid set: 10000\n",
      "0: 1000\n",
      "6: 1000\n",
      "2: 1000\n",
      "7: 1000\n",
      "1: 1000\n",
      "4: 1000\n",
      "5: 1000\n",
      "3: 1000\n",
      "8: 1000\n",
      "9: 1000\n",
      "\n"
     ]
    },
    {
     "name": "stderr",
     "output_type": "stream",
     "text": [
      "                                                                          \r"
     ]
    },
    {
     "name": "stdout",
     "output_type": "stream",
     "text": [
      "Train set: 10000\n",
      "Valid set: 10000\n",
      "0: 1000\n",
      "6: 1000\n",
      "2: 1000\n",
      "7: 1000\n",
      "1: 1000\n",
      "4: 1000\n",
      "5: 1000\n",
      "3: 1000\n",
      "8: 1000\n",
      "9: 1000\n",
      "\n"
     ]
    },
    {
     "name": "stderr",
     "output_type": "stream",
     "text": [
      "                                                                          \r"
     ]
    },
    {
     "name": "stdout",
     "output_type": "stream",
     "text": [
      "Train set: 10000\n",
      "Valid set: 10000\n",
      "0: 1000\n",
      "6: 1000\n",
      "2: 1000\n",
      "7: 1000\n",
      "1: 1000\n",
      "4: 1000\n",
      "5: 1000\n",
      "3: 1000\n",
      "8: 1000\n",
      "9: 1000\n",
      "\n"
     ]
    },
    {
     "name": "stderr",
     "output_type": "stream",
     "text": [
      "                                                                          \r"
     ]
    },
    {
     "name": "stdout",
     "output_type": "stream",
     "text": [
      "Train set: 10000\n",
      "Valid set: 10000\n",
      "0: 1000\n",
      "6: 1000\n",
      "2: 1000\n",
      "7: 1000\n",
      "1: 1000\n",
      "4: 1000\n",
      "5: 1000\n",
      "3: 1000\n",
      "8: 1000\n",
      "9: 1000\n",
      "\n"
     ]
    },
    {
     "name": "stderr",
     "output_type": "stream",
     "text": [
      "                                                                          \r"
     ]
    },
    {
     "name": "stdout",
     "output_type": "stream",
     "text": [
      "Train set: 10000\n",
      "Valid set: 10000\n",
      "0: 1000\n",
      "6: 1000\n",
      "2: 1000\n",
      "7: 1000\n",
      "1: 1000\n",
      "4: 1000\n",
      "5: 1000\n",
      "3: 1000\n",
      "8: 1000\n",
      "9: 1000\n",
      "\n"
     ]
    },
    {
     "name": "stderr",
     "output_type": "stream",
     "text": [
      "                                                                          \r"
     ]
    },
    {
     "name": "stdout",
     "output_type": "stream",
     "text": [
      "Train set: 10000\n",
      "Valid set: 10000\n",
      "0: 1000\n",
      "6: 1000\n",
      "2: 1000\n",
      "7: 1000\n",
      "1: 1000\n",
      "4: 1000\n",
      "5: 1000\n",
      "3: 1000\n",
      "8: 1000\n",
      "9: 1000\n",
      "\n"
     ]
    },
    {
     "name": "stderr",
     "output_type": "stream",
     "text": [
      "                                                                          \r"
     ]
    },
    {
     "name": "stdout",
     "output_type": "stream",
     "text": [
      "Train set: 10000\n",
      "Valid set: 10000\n",
      "0: 1000\n",
      "6: 1000\n",
      "2: 1000\n",
      "7: 1000\n",
      "1: 1000\n",
      "4: 1000\n",
      "5: 1000\n",
      "3: 1000\n",
      "8: 1000\n",
      "9: 1000\n",
      "\n"
     ]
    },
    {
     "name": "stderr",
     "output_type": "stream",
     "text": [
      "                                                                          \r"
     ]
    },
    {
     "name": "stdout",
     "output_type": "stream",
     "text": [
      "Train set: 10000\n",
      "Valid set: 10000\n",
      "0: 1000\n",
      "6: 1000\n",
      "2: 1000\n",
      "7: 1000\n",
      "1: 1000\n",
      "4: 1000\n",
      "5: 1000\n",
      "3: 1000\n",
      "8: 1000\n",
      "9: 1000\n",
      "\n"
     ]
    },
    {
     "name": "stderr",
     "output_type": "stream",
     "text": [
      "                                                                          \r"
     ]
    },
    {
     "name": "stdout",
     "output_type": "stream",
     "text": [
      "Train set: 10000\n",
      "Valid set: 10000\n",
      "0: 1000\n",
      "6: 1000\n",
      "2: 1000\n",
      "7: 1000\n",
      "1: 1000\n",
      "4: 1000\n",
      "5: 1000\n",
      "3: 1000\n",
      "8: 1000\n",
      "9: 1000\n",
      "\n"
     ]
    },
    {
     "name": "stderr",
     "output_type": "stream",
     "text": [
      "                                                                          \r"
     ]
    },
    {
     "name": "stdout",
     "output_type": "stream",
     "text": [
      "Train set: 10000\n",
      "Valid set: 10000\n",
      "0: 1000\n",
      "6: 1000\n",
      "2: 1000\n",
      "7: 1000\n",
      "1: 1000\n",
      "4: 1000\n",
      "5: 1000\n",
      "3: 1000\n",
      "8: 1000\n",
      "9: 1000\n",
      "\n"
     ]
    },
    {
     "name": "stderr",
     "output_type": "stream",
     "text": [
      "                                                                          \r"
     ]
    },
    {
     "name": "stdout",
     "output_type": "stream",
     "text": [
      "Train set: 10000\n",
      "Valid set: 10000\n",
      "0: 1000\n",
      "6: 1000\n",
      "2: 1000\n",
      "7: 1000\n",
      "1: 1000\n",
      "4: 1000\n",
      "5: 1000\n",
      "3: 1000\n",
      "8: 1000\n",
      "9: 1000\n",
      "\n"
     ]
    },
    {
     "name": "stderr",
     "output_type": "stream",
     "text": [
      "                                                                          \r"
     ]
    },
    {
     "name": "stdout",
     "output_type": "stream",
     "text": [
      "Train set: 10000\n",
      "Valid set: 10000\n",
      "0: 1000\n",
      "6: 1000\n",
      "2: 1000\n",
      "7: 1000\n",
      "1: 1000\n",
      "4: 1000\n",
      "5: 1000\n",
      "3: 1000\n",
      "8: 1000\n",
      "9: 1000\n",
      "\n"
     ]
    },
    {
     "name": "stderr",
     "output_type": "stream",
     "text": [
      "                                                                          \r"
     ]
    },
    {
     "name": "stdout",
     "output_type": "stream",
     "text": [
      "Train set: 10000\n",
      "Valid set: 10000\n",
      "0: 1000\n",
      "6: 1000\n",
      "2: 1000\n",
      "7: 1000\n",
      "1: 1000\n",
      "4: 1000\n",
      "5: 1000\n",
      "3: 1000\n",
      "8: 1000\n",
      "9: 1000\n",
      "\n"
     ]
    },
    {
     "name": "stderr",
     "output_type": "stream",
     "text": [
      "                                                                          \r"
     ]
    },
    {
     "name": "stdout",
     "output_type": "stream",
     "text": [
      "Train set: 10000\n",
      "Valid set: 10000\n",
      "0: 1000\n",
      "6: 1000\n",
      "2: 1000\n",
      "7: 1000\n",
      "1: 1000\n",
      "4: 1000\n",
      "5: 1000\n",
      "3: 1000\n",
      "8: 1000\n",
      "9: 1000\n",
      "\n"
     ]
    },
    {
     "name": "stderr",
     "output_type": "stream",
     "text": [
      "                                                                          \r"
     ]
    },
    {
     "name": "stdout",
     "output_type": "stream",
     "text": [
      "Train set: 10000\n",
      "Valid set: 10000\n",
      "0: 1000\n",
      "6: 1000\n",
      "2: 1000\n",
      "7: 1000\n",
      "1: 1000\n",
      "4: 1000\n",
      "5: 1000\n",
      "3: 1000\n",
      "8: 1000\n",
      "9: 1000\n",
      "\n"
     ]
    },
    {
     "name": "stderr",
     "output_type": "stream",
     "text": [
      "                                                                          \r"
     ]
    },
    {
     "name": "stdout",
     "output_type": "stream",
     "text": [
      "Train set: 10000\n",
      "Valid set: 10000\n",
      "0: 1000\n",
      "6: 1000\n",
      "2: 1000\n",
      "7: 1000\n",
      "1: 1000\n",
      "4: 1000\n",
      "5: 1000\n",
      "3: 1000\n",
      "8: 1000\n",
      "9: 1000\n",
      "\n"
     ]
    },
    {
     "name": "stderr",
     "output_type": "stream",
     "text": [
      "                                                                          \r"
     ]
    },
    {
     "name": "stdout",
     "output_type": "stream",
     "text": [
      "Train set: 10000\n",
      "Valid set: 10000\n",
      "0: 1000\n",
      "6: 1000\n",
      "2: 1000\n",
      "7: 1000\n",
      "1: 1000\n",
      "4: 1000\n",
      "5: 1000\n",
      "3: 1000\n",
      "8: 1000\n",
      "9: 1000\n",
      "\n"
     ]
    },
    {
     "name": "stderr",
     "output_type": "stream",
     "text": [
      "                                                                          \r"
     ]
    },
    {
     "name": "stdout",
     "output_type": "stream",
     "text": [
      "Train set: 10000\n",
      "Valid set: 10000\n",
      "0: 1000\n",
      "6: 1000\n",
      "2: 1000\n",
      "7: 1000\n",
      "1: 1000\n",
      "4: 1000\n",
      "5: 1000\n",
      "3: 1000\n",
      "8: 1000\n",
      "9: 1000\n",
      "\n"
     ]
    },
    {
     "name": "stderr",
     "output_type": "stream",
     "text": [
      "                                                                          \r"
     ]
    },
    {
     "name": "stdout",
     "output_type": "stream",
     "text": [
      "Train set: 10000\n",
      "Valid set: 10000\n",
      "0: 1000\n",
      "6: 1000\n",
      "2: 1000\n",
      "7: 1000\n",
      "1: 1000\n",
      "4: 1000\n",
      "5: 1000\n",
      "3: 1000\n",
      "8: 1000\n",
      "9: 1000\n",
      "\n"
     ]
    },
    {
     "name": "stderr",
     "output_type": "stream",
     "text": [
      "                                                                          \r"
     ]
    },
    {
     "name": "stdout",
     "output_type": "stream",
     "text": [
      "Train set: 10000\n",
      "Valid set: 10000\n",
      "0: 1000\n",
      "6: 1000\n",
      "2: 1000\n",
      "7: 1000\n",
      "1: 1000\n",
      "4: 1000\n",
      "5: 1000\n",
      "3: 1000\n",
      "8: 1000\n",
      "9: 1000\n",
      "\n"
     ]
    },
    {
     "name": "stderr",
     "output_type": "stream",
     "text": [
      "                                                                          \r"
     ]
    },
    {
     "name": "stdout",
     "output_type": "stream",
     "text": [
      "Train set: 10000\n",
      "Valid set: 10000\n",
      "0: 1000\n",
      "6: 1000\n",
      "2: 1000\n",
      "7: 1000\n",
      "1: 1000\n",
      "4: 1000\n",
      "5: 1000\n",
      "3: 1000\n",
      "8: 1000\n",
      "9: 1000\n",
      "\n"
     ]
    },
    {
     "name": "stderr",
     "output_type": "stream",
     "text": [
      "                                                                          \r"
     ]
    },
    {
     "name": "stdout",
     "output_type": "stream",
     "text": [
      "Train set: 10000\n",
      "Valid set: 10000\n",
      "0: 1000\n",
      "6: 1000\n",
      "2: 1000\n",
      "7: 1000\n",
      "1: 1000\n",
      "4: 1000\n",
      "5: 1000\n",
      "3: 1000\n",
      "8: 1000\n",
      "9: 1000\n",
      "\n"
     ]
    },
    {
     "name": "stderr",
     "output_type": "stream",
     "text": [
      "                                                                          \r"
     ]
    },
    {
     "name": "stdout",
     "output_type": "stream",
     "text": [
      "Train set: 10000\n",
      "Valid set: 10000\n",
      "0: 1000\n",
      "6: 1000\n",
      "2: 1000\n",
      "7: 1000\n",
      "1: 1000\n",
      "4: 1000\n",
      "5: 1000\n",
      "3: 1000\n",
      "8: 1000\n",
      "9: 1000\n",
      "\n"
     ]
    },
    {
     "name": "stderr",
     "output_type": "stream",
     "text": [
      "                                                                          \r"
     ]
    },
    {
     "name": "stdout",
     "output_type": "stream",
     "text": [
      "Train set: 10000\n",
      "Valid set: 10000\n",
      "0: 1000\n",
      "6: 1000\n",
      "2: 1000\n",
      "7: 1000\n",
      "1: 1000\n",
      "4: 1000\n",
      "5: 1000\n",
      "3: 1000\n",
      "8: 1000\n",
      "9: 1000\n",
      "\n"
     ]
    },
    {
     "name": "stderr",
     "output_type": "stream",
     "text": [
      "                                                                          \r"
     ]
    },
    {
     "name": "stdout",
     "output_type": "stream",
     "text": [
      "Train set: 10000\n",
      "Valid set: 10000\n",
      "0: 1000\n",
      "6: 1000\n",
      "2: 1000\n",
      "7: 1000\n",
      "1: 1000\n",
      "4: 1000\n",
      "5: 1000\n",
      "3: 1000\n",
      "8: 1000\n",
      "9: 1000\n",
      "\n"
     ]
    },
    {
     "name": "stderr",
     "output_type": "stream",
     "text": [
      "                                                                          \r"
     ]
    },
    {
     "name": "stdout",
     "output_type": "stream",
     "text": [
      "Train set: 10000\n",
      "Valid set: 10000\n",
      "0: 1000\n",
      "6: 1000\n",
      "2: 1000\n",
      "7: 1000\n",
      "1: 1000\n",
      "4: 1000\n",
      "5: 1000\n",
      "3: 1000\n",
      "8: 1000\n",
      "9: 1000\n",
      "\n"
     ]
    },
    {
     "name": "stderr",
     "output_type": "stream",
     "text": [
      "                                                                          \r"
     ]
    },
    {
     "name": "stdout",
     "output_type": "stream",
     "text": [
      "Train set: 10000\n",
      "Valid set: 10000\n",
      "0: 1000\n",
      "6: 1000\n",
      "2: 1000\n",
      "7: 1000\n",
      "1: 1000\n",
      "4: 1000\n",
      "5: 1000\n",
      "3: 1000\n",
      "8: 1000\n",
      "9: 1000\n",
      "\n"
     ]
    },
    {
     "name": "stderr",
     "output_type": "stream",
     "text": [
      "                                                                          \r"
     ]
    },
    {
     "name": "stdout",
     "output_type": "stream",
     "text": [
      "Train set: 10000\n",
      "Valid set: 10000\n",
      "0: 1000\n",
      "6: 1000\n",
      "2: 1000\n",
      "7: 1000\n",
      "1: 1000\n",
      "4: 1000\n",
      "5: 1000\n",
      "3: 1000\n",
      "8: 1000\n",
      "9: 1000\n",
      "\n"
     ]
    },
    {
     "name": "stderr",
     "output_type": "stream",
     "text": [
      "                                                                          \r"
     ]
    },
    {
     "name": "stdout",
     "output_type": "stream",
     "text": [
      "Train set: 10000\n",
      "Valid set: 10000\n",
      "0: 1000\n",
      "6: 1000\n",
      "2: 1000\n",
      "7: 1000\n",
      "1: 1000\n",
      "4: 1000\n",
      "5: 1000\n",
      "3: 1000\n",
      "8: 1000\n",
      "9: 1000\n",
      "\n"
     ]
    },
    {
     "name": "stderr",
     "output_type": "stream",
     "text": [
      "                                                                          \r"
     ]
    },
    {
     "name": "stdout",
     "output_type": "stream",
     "text": [
      "Train set: 10000\n",
      "Valid set: 10000\n",
      "0: 1000\n",
      "6: 1000\n",
      "2: 1000\n",
      "7: 1000\n",
      "1: 1000\n",
      "4: 1000\n",
      "5: 1000\n",
      "3: 1000\n",
      "8: 1000\n",
      "9: 1000\n",
      "\n"
     ]
    },
    {
     "name": "stderr",
     "output_type": "stream",
     "text": [
      "                                                                          \r"
     ]
    },
    {
     "name": "stdout",
     "output_type": "stream",
     "text": [
      "Train set: 10000\n",
      "Valid set: 10000\n",
      "0: 1000\n",
      "6: 1000\n",
      "2: 1000\n",
      "7: 1000\n",
      "1: 1000\n",
      "4: 1000\n",
      "5: 1000\n",
      "3: 1000\n",
      "8: 1000\n",
      "9: 1000\n",
      "\n"
     ]
    },
    {
     "name": "stderr",
     "output_type": "stream",
     "text": [
      "                                                                          \r"
     ]
    },
    {
     "name": "stdout",
     "output_type": "stream",
     "text": [
      "Train set: 10000\n",
      "Valid set: 10000\n",
      "0: 1000\n",
      "6: 1000\n",
      "2: 1000\n",
      "7: 1000\n",
      "1: 1000\n",
      "4: 1000\n",
      "5: 1000\n",
      "3: 1000\n",
      "8: 1000\n",
      "9: 1000\n",
      "\n"
     ]
    },
    {
     "name": "stderr",
     "output_type": "stream",
     "text": [
      "                                                                          \r"
     ]
    },
    {
     "name": "stdout",
     "output_type": "stream",
     "text": [
      "Train set: 10000\n",
      "Valid set: 10000\n",
      "0: 1000\n",
      "6: 1000\n",
      "2: 1000\n",
      "7: 1000\n",
      "1: 1000\n",
      "4: 1000\n",
      "5: 1000\n",
      "3: 1000\n",
      "8: 1000\n",
      "9: 1000\n",
      "\n"
     ]
    },
    {
     "name": "stderr",
     "output_type": "stream",
     "text": [
      "                                                                          \r"
     ]
    },
    {
     "name": "stdout",
     "output_type": "stream",
     "text": [
      "Train set: 10000\n",
      "Valid set: 10000\n",
      "0: 1000\n",
      "6: 1000\n",
      "2: 1000\n",
      "7: 1000\n",
      "1: 1000\n",
      "4: 1000\n",
      "5: 1000\n",
      "3: 1000\n",
      "8: 1000\n",
      "9: 1000\n",
      "\n"
     ]
    },
    {
     "name": "stderr",
     "output_type": "stream",
     "text": [
      "                                                                          \r"
     ]
    },
    {
     "name": "stdout",
     "output_type": "stream",
     "text": [
      "Train set: 10000\n",
      "Valid set: 10000\n",
      "0: 1000\n",
      "6: 1000\n",
      "2: 1000\n",
      "7: 1000\n",
      "1: 1000\n",
      "4: 1000\n",
      "5: 1000\n",
      "3: 1000\n",
      "8: 1000\n",
      "9: 1000\n",
      "\n"
     ]
    },
    {
     "name": "stderr",
     "output_type": "stream",
     "text": [
      "                                                                          \r"
     ]
    },
    {
     "name": "stdout",
     "output_type": "stream",
     "text": [
      "Train set: 10000\n",
      "Valid set: 10000\n",
      "0: 1000\n",
      "6: 1000\n",
      "2: 1000\n",
      "7: 1000\n",
      "1: 1000\n",
      "4: 1000\n",
      "5: 1000\n",
      "3: 1000\n",
      "8: 1000\n",
      "9: 1000\n",
      "\n"
     ]
    },
    {
     "name": "stderr",
     "output_type": "stream",
     "text": [
      "                                                                          \r"
     ]
    },
    {
     "name": "stdout",
     "output_type": "stream",
     "text": [
      "Train set: 10000\n",
      "Valid set: 10000\n",
      "0: 1000\n",
      "6: 1000\n",
      "2: 1000\n",
      "7: 1000\n",
      "1: 1000\n",
      "4: 1000\n",
      "5: 1000\n",
      "3: 1000\n",
      "8: 1000\n",
      "9: 1000\n",
      "\n"
     ]
    },
    {
     "name": "stderr",
     "output_type": "stream",
     "text": [
      "                                                                          \r"
     ]
    },
    {
     "name": "stdout",
     "output_type": "stream",
     "text": [
      "Train set: 10000\n",
      "Valid set: 10000\n",
      "0: 1000\n",
      "6: 1000\n",
      "2: 1000\n",
      "7: 1000\n",
      "1: 1000\n",
      "4: 1000\n",
      "5: 1000\n",
      "3: 1000\n",
      "8: 1000\n",
      "9: 1000\n",
      "\n"
     ]
    },
    {
     "name": "stderr",
     "output_type": "stream",
     "text": [
      "                                                                          \r"
     ]
    },
    {
     "name": "stdout",
     "output_type": "stream",
     "text": [
      "Train set: 10000\n",
      "Valid set: 10000\n",
      "0: 1000\n",
      "6: 1000\n",
      "2: 1000\n",
      "7: 1000\n",
      "1: 1000\n",
      "4: 1000\n",
      "5: 1000\n",
      "3: 1000\n",
      "8: 1000\n",
      "9: 1000\n",
      "\n"
     ]
    },
    {
     "name": "stderr",
     "output_type": "stream",
     "text": [
      "                                                                          \r"
     ]
    },
    {
     "name": "stdout",
     "output_type": "stream",
     "text": [
      "Train set: 10000\n",
      "Valid set: 10000\n",
      "0: 1000\n",
      "6: 1000\n",
      "2: 1000\n",
      "7: 1000\n",
      "1: 1000\n",
      "4: 1000\n",
      "5: 1000\n",
      "3: 1000\n",
      "8: 1000\n",
      "9: 1000\n",
      "\n"
     ]
    },
    {
     "name": "stderr",
     "output_type": "stream",
     "text": [
      "                                                                          \r"
     ]
    },
    {
     "name": "stdout",
     "output_type": "stream",
     "text": [
      "Train set: 10000\n",
      "Valid set: 10000\n",
      "0: 1000\n",
      "6: 1000\n",
      "2: 1000\n",
      "7: 1000\n",
      "1: 1000\n",
      "4: 1000\n",
      "5: 1000\n",
      "3: 1000\n",
      "8: 1000\n",
      "9: 1000\n",
      "\n"
     ]
    },
    {
     "name": "stderr",
     "output_type": "stream",
     "text": [
      "                                                                          \r"
     ]
    },
    {
     "name": "stdout",
     "output_type": "stream",
     "text": [
      "Train set: 10000\n",
      "Valid set: 10000\n",
      "0: 1000\n",
      "6: 1000\n",
      "2: 1000\n",
      "7: 1000\n",
      "1: 1000\n",
      "4: 1000\n",
      "5: 1000\n",
      "3: 1000\n",
      "8: 1000\n",
      "9: 1000\n",
      "\n"
     ]
    },
    {
     "name": "stderr",
     "output_type": "stream",
     "text": [
      "                                                                          \r"
     ]
    },
    {
     "name": "stdout",
     "output_type": "stream",
     "text": [
      "Train set: 10000\n",
      "Valid set: 10000\n",
      "0: 1000\n",
      "6: 1000\n",
      "2: 1000\n",
      "7: 1000\n",
      "1: 1000\n",
      "4: 1000\n",
      "5: 1000\n",
      "3: 1000\n",
      "8: 1000\n",
      "9: 1000\n",
      "\n"
     ]
    },
    {
     "name": "stderr",
     "output_type": "stream",
     "text": [
      "                                                                          \r"
     ]
    },
    {
     "name": "stdout",
     "output_type": "stream",
     "text": [
      "Train set: 10000\n",
      "Valid set: 10000\n",
      "0: 1000\n",
      "6: 1000\n",
      "2: 1000\n",
      "7: 1000\n",
      "1: 1000\n",
      "4: 1000\n",
      "5: 1000\n",
      "3: 1000\n",
      "8: 1000\n",
      "9: 1000\n",
      "\n"
     ]
    },
    {
     "name": "stderr",
     "output_type": "stream",
     "text": [
      "                                                                          \r"
     ]
    },
    {
     "name": "stdout",
     "output_type": "stream",
     "text": [
      "Train set: 10000\n",
      "Valid set: 10000\n",
      "0: 1000\n",
      "6: 1000\n",
      "2: 1000\n",
      "7: 1000\n",
      "1: 1000\n",
      "4: 1000\n",
      "5: 1000\n",
      "3: 1000\n",
      "8: 1000\n",
      "9: 1000\n",
      "\n"
     ]
    },
    {
     "name": "stderr",
     "output_type": "stream",
     "text": [
      "                                                                          \r"
     ]
    },
    {
     "name": "stdout",
     "output_type": "stream",
     "text": [
      "Train set: 10000\n",
      "Valid set: 10000\n",
      "0: 1000\n",
      "6: 1000\n",
      "2: 1000\n",
      "7: 1000\n",
      "1: 1000\n",
      "4: 1000\n",
      "5: 1000\n",
      "3: 1000\n",
      "8: 1000\n",
      "9: 1000\n",
      "\n"
     ]
    },
    {
     "name": "stderr",
     "output_type": "stream",
     "text": [
      "                                                                          \r"
     ]
    },
    {
     "name": "stdout",
     "output_type": "stream",
     "text": [
      "Train set: 10000\n",
      "Valid set: 10000\n",
      "0: 1000\n",
      "6: 1000\n",
      "2: 1000\n",
      "7: 1000\n",
      "1: 1000\n",
      "4: 1000\n",
      "5: 1000\n",
      "3: 1000\n",
      "8: 1000\n",
      "9: 1000\n",
      "\n"
     ]
    },
    {
     "name": "stderr",
     "output_type": "stream",
     "text": [
      "                                                                          \r"
     ]
    },
    {
     "name": "stdout",
     "output_type": "stream",
     "text": [
      "Train set: 10000\n",
      "Valid set: 10000\n",
      "0: 1000\n",
      "6: 1000\n",
      "2: 1000\n",
      "7: 1000\n",
      "1: 1000\n",
      "4: 1000\n",
      "5: 1000\n",
      "3: 1000\n",
      "8: 1000\n",
      "9: 1000\n",
      "\n"
     ]
    },
    {
     "name": "stderr",
     "output_type": "stream",
     "text": [
      "                                                                          \r"
     ]
    },
    {
     "name": "stdout",
     "output_type": "stream",
     "text": [
      "Train set: 10000\n",
      "Valid set: 10000\n",
      "0: 1000\n",
      "6: 1000\n",
      "2: 1000\n",
      "7: 1000\n",
      "1: 1000\n",
      "4: 1000\n",
      "5: 1000\n",
      "3: 1000\n",
      "8: 1000\n",
      "9: 1000\n",
      "\n"
     ]
    },
    {
     "name": "stderr",
     "output_type": "stream",
     "text": [
      "                                                                          \r"
     ]
    },
    {
     "name": "stdout",
     "output_type": "stream",
     "text": [
      "Train set: 10000\n",
      "Valid set: 10000\n",
      "0: 1000\n",
      "6: 1000\n",
      "2: 1000\n",
      "7: 1000\n",
      "1: 1000\n",
      "4: 1000\n",
      "5: 1000\n",
      "3: 1000\n",
      "8: 1000\n",
      "9: 1000\n",
      "\n"
     ]
    },
    {
     "name": "stderr",
     "output_type": "stream",
     "text": [
      "                                                                          \r"
     ]
    },
    {
     "name": "stdout",
     "output_type": "stream",
     "text": [
      "Train set: 10000\n",
      "Valid set: 10000\n",
      "0: 1000\n",
      "6: 1000\n",
      "2: 1000\n",
      "7: 1000\n",
      "1: 1000\n",
      "4: 1000\n",
      "5: 1000\n",
      "3: 1000\n",
      "8: 1000\n",
      "9: 1000\n",
      "\n"
     ]
    },
    {
     "name": "stderr",
     "output_type": "stream",
     "text": [
      "                                                                          \r"
     ]
    },
    {
     "name": "stdout",
     "output_type": "stream",
     "text": [
      "Train set: 10000\n",
      "Valid set: 10000\n",
      "0: 1000\n",
      "6: 1000\n",
      "2: 1000\n",
      "7: 1000\n",
      "1: 1000\n",
      "4: 1000\n",
      "5: 1000\n",
      "3: 1000\n",
      "8: 1000\n",
      "9: 1000\n",
      "\n"
     ]
    },
    {
     "name": "stderr",
     "output_type": "stream",
     "text": [
      "                                                                          \r"
     ]
    },
    {
     "name": "stdout",
     "output_type": "stream",
     "text": [
      "Train set: 10000\n",
      "Valid set: 10000\n",
      "0: 1000\n",
      "6: 1000\n",
      "2: 1000\n",
      "7: 1000\n",
      "1: 1000\n",
      "4: 1000\n",
      "5: 1000\n",
      "3: 1000\n",
      "8: 1000\n",
      "9: 1000\n",
      "\n"
     ]
    },
    {
     "name": "stderr",
     "output_type": "stream",
     "text": [
      "                                                                          \r"
     ]
    },
    {
     "name": "stdout",
     "output_type": "stream",
     "text": [
      "Train set: 10000\n",
      "Valid set: 10000\n",
      "0: 1000\n",
      "6: 1000\n",
      "2: 1000\n",
      "7: 1000\n",
      "1: 1000\n",
      "4: 1000\n",
      "5: 1000\n",
      "3: 1000\n",
      "8: 1000\n",
      "9: 1000\n",
      "\n"
     ]
    },
    {
     "name": "stderr",
     "output_type": "stream",
     "text": [
      "                                                                          \r"
     ]
    },
    {
     "name": "stdout",
     "output_type": "stream",
     "text": [
      "Train set: 10000\n",
      "Valid set: 10000\n",
      "0: 1000\n",
      "6: 1000\n",
      "2: 1000\n",
      "7: 1000\n",
      "1: 1000\n",
      "4: 1000\n",
      "5: 1000\n",
      "3: 1000\n",
      "8: 1000\n",
      "9: 1000\n",
      "\n"
     ]
    },
    {
     "name": "stderr",
     "output_type": "stream",
     "text": [
      "                                                                          \r"
     ]
    },
    {
     "name": "stdout",
     "output_type": "stream",
     "text": [
      "Train set: 10000\n",
      "Valid set: 10000\n",
      "0: 1000\n",
      "6: 1000\n",
      "2: 1000\n",
      "7: 1000\n",
      "1: 1000\n",
      "4: 1000\n",
      "5: 1000\n",
      "3: 1000\n",
      "8: 1000\n",
      "9: 1000\n",
      "\n"
     ]
    },
    {
     "name": "stderr",
     "output_type": "stream",
     "text": [
      "                                                                          \r"
     ]
    },
    {
     "name": "stdout",
     "output_type": "stream",
     "text": [
      "Train set: 10000\n",
      "Valid set: 10000\n",
      "0: 1000\n",
      "6: 1000\n",
      "2: 1000\n",
      "7: 1000\n",
      "1: 1000\n",
      "4: 1000\n",
      "5: 1000\n",
      "3: 1000\n",
      "8: 1000\n",
      "9: 1000\n",
      "\n"
     ]
    },
    {
     "name": "stderr",
     "output_type": "stream",
     "text": [
      "                                                                          \r"
     ]
    },
    {
     "name": "stdout",
     "output_type": "stream",
     "text": [
      "Train set: 10000\n",
      "Valid set: 10000\n",
      "0: 1000\n",
      "6: 1000\n",
      "2: 1000\n",
      "7: 1000\n",
      "1: 1000\n",
      "4: 1000\n",
      "5: 1000\n",
      "3: 1000\n",
      "8: 1000\n",
      "9: 1000\n",
      "\n"
     ]
    },
    {
     "name": "stderr",
     "output_type": "stream",
     "text": [
      "                                                                          \r"
     ]
    },
    {
     "name": "stdout",
     "output_type": "stream",
     "text": [
      "Train set: 10000\n",
      "Valid set: 10000\n",
      "0: 1000\n",
      "6: 1000\n",
      "2: 1000\n",
      "7: 1000\n",
      "1: 1000\n",
      "4: 1000\n",
      "5: 1000\n",
      "3: 1000\n",
      "8: 1000\n",
      "9: 1000\n",
      "\n"
     ]
    },
    {
     "name": "stderr",
     "output_type": "stream",
     "text": [
      "                                                                          \r"
     ]
    },
    {
     "name": "stdout",
     "output_type": "stream",
     "text": [
      "Train set: 10000\n",
      "Valid set: 10000\n",
      "0: 1000\n",
      "6: 1000\n",
      "2: 1000\n",
      "7: 1000\n",
      "1: 1000\n",
      "4: 1000\n",
      "5: 1000\n",
      "3: 1000\n",
      "8: 1000\n",
      "9: 1000\n",
      "\n"
     ]
    },
    {
     "name": "stderr",
     "output_type": "stream",
     "text": [
      "                                                                          \r"
     ]
    },
    {
     "name": "stdout",
     "output_type": "stream",
     "text": [
      "Train set: 10000\n",
      "Valid set: 10000\n",
      "0: 1000\n",
      "6: 1000\n",
      "2: 1000\n",
      "7: 1000\n",
      "1: 1000\n",
      "4: 1000\n",
      "5: 1000\n",
      "3: 1000\n",
      "8: 1000\n",
      "9: 1000\n",
      "\n"
     ]
    },
    {
     "name": "stderr",
     "output_type": "stream",
     "text": [
      "                                                                          \r"
     ]
    },
    {
     "name": "stdout",
     "output_type": "stream",
     "text": [
      "Train set: 10000\n",
      "Valid set: 10000\n",
      "0: 1000\n",
      "6: 1000\n",
      "2: 1000\n",
      "7: 1000\n",
      "1: 1000\n",
      "4: 1000\n",
      "5: 1000\n",
      "3: 1000\n",
      "8: 1000\n",
      "9: 1000\n",
      "\n"
     ]
    },
    {
     "name": "stderr",
     "output_type": "stream",
     "text": [
      "                                                                          \r"
     ]
    },
    {
     "name": "stdout",
     "output_type": "stream",
     "text": [
      "Train set: 10000\n",
      "Valid set: 10000\n",
      "0: 1000\n",
      "6: 1000\n",
      "2: 1000\n",
      "7: 1000\n",
      "1: 1000\n",
      "4: 1000\n",
      "5: 1000\n",
      "3: 1000\n",
      "8: 1000\n",
      "9: 1000\n",
      "\n"
     ]
    },
    {
     "name": "stderr",
     "output_type": "stream",
     "text": [
      "                                                                          \r"
     ]
    },
    {
     "name": "stdout",
     "output_type": "stream",
     "text": [
      "Train set: 10000\n",
      "Valid set: 10000\n",
      "0: 1000\n",
      "6: 1000\n",
      "2: 1000\n",
      "7: 1000\n",
      "1: 1000\n",
      "4: 1000\n",
      "5: 1000\n",
      "3: 1000\n",
      "8: 1000\n",
      "9: 1000\n",
      "\n"
     ]
    },
    {
     "name": "stderr",
     "output_type": "stream",
     "text": [
      "                                                                          \r"
     ]
    },
    {
     "name": "stdout",
     "output_type": "stream",
     "text": [
      "Train set: 10000\n",
      "Valid set: 10000\n",
      "0: 1000\n",
      "6: 1000\n",
      "2: 1000\n",
      "7: 1000\n",
      "1: 1000\n",
      "4: 1000\n",
      "5: 1000\n",
      "3: 1000\n",
      "8: 1000\n",
      "9: 1000\n",
      "\n"
     ]
    },
    {
     "name": "stderr",
     "output_type": "stream",
     "text": [
      "                                                                          \r"
     ]
    },
    {
     "name": "stdout",
     "output_type": "stream",
     "text": [
      "Train set: 10000\n",
      "Valid set: 10000\n",
      "0: 1000\n",
      "6: 1000\n",
      "2: 1000\n",
      "7: 1000\n",
      "1: 1000\n",
      "4: 1000\n",
      "5: 1000\n",
      "3: 1000\n",
      "8: 1000\n",
      "9: 1000\n",
      "\n"
     ]
    },
    {
     "name": "stderr",
     "output_type": "stream",
     "text": [
      "                                                                          \r"
     ]
    },
    {
     "name": "stdout",
     "output_type": "stream",
     "text": [
      "Train set: 10000\n",
      "Valid set: 10000\n",
      "0: 1000\n",
      "6: 1000\n",
      "2: 1000\n",
      "7: 1000\n",
      "1: 1000\n",
      "4: 1000\n",
      "5: 1000\n",
      "3: 1000\n",
      "8: 1000\n",
      "9: 1000\n",
      "\n"
     ]
    },
    {
     "name": "stderr",
     "output_type": "stream",
     "text": [
      "                                                                          \r"
     ]
    },
    {
     "name": "stdout",
     "output_type": "stream",
     "text": [
      "Train set: 10000\n",
      "Valid set: 10000\n",
      "0: 1000\n",
      "6: 1000\n",
      "2: 1000\n",
      "7: 1000\n",
      "1: 1000\n",
      "4: 1000\n",
      "5: 1000\n",
      "3: 1000\n",
      "8: 1000\n",
      "9: 1000\n",
      "\n"
     ]
    },
    {
     "name": "stderr",
     "output_type": "stream",
     "text": [
      "                                                                          \r"
     ]
    },
    {
     "name": "stdout",
     "output_type": "stream",
     "text": [
      "Train set: 10000\n",
      "Valid set: 10000\n",
      "0: 1000\n",
      "6: 1000\n",
      "2: 1000\n",
      "7: 1000\n",
      "1: 1000\n",
      "4: 1000\n",
      "5: 1000\n",
      "3: 1000\n",
      "8: 1000\n",
      "9: 1000\n",
      "\n"
     ]
    },
    {
     "name": "stderr",
     "output_type": "stream",
     "text": [
      "                                                                          \r"
     ]
    },
    {
     "name": "stdout",
     "output_type": "stream",
     "text": [
      "Train set: 10000\n",
      "Valid set: 10000\n",
      "0: 1000\n",
      "6: 1000\n",
      "2: 1000\n",
      "7: 1000\n",
      "1: 1000\n",
      "4: 1000\n",
      "5: 1000\n",
      "3: 1000\n",
      "8: 1000\n",
      "9: 1000\n",
      "\n"
     ]
    },
    {
     "name": "stderr",
     "output_type": "stream",
     "text": [
      "                                                                          \r"
     ]
    },
    {
     "name": "stdout",
     "output_type": "stream",
     "text": [
      "Train set: 10000\n",
      "Valid set: 10000\n",
      "0: 1000\n",
      "6: 1000\n",
      "2: 1000\n",
      "7: 1000\n",
      "1: 1000\n",
      "4: 1000\n",
      "5: 1000\n",
      "3: 1000\n",
      "8: 1000\n",
      "9: 1000\n",
      "\n"
     ]
    },
    {
     "name": "stderr",
     "output_type": "stream",
     "text": [
      "                                                                          \r"
     ]
    },
    {
     "name": "stdout",
     "output_type": "stream",
     "text": [
      "Train set: 10000\n",
      "Valid set: 10000\n",
      "0: 1000\n",
      "6: 1000\n",
      "2: 1000\n",
      "7: 1000\n",
      "1: 1000\n",
      "4: 1000\n",
      "5: 1000\n",
      "3: 1000\n",
      "8: 1000\n",
      "9: 1000\n",
      "\n"
     ]
    },
    {
     "name": "stderr",
     "output_type": "stream",
     "text": [
      "                                                                          \r"
     ]
    },
    {
     "name": "stdout",
     "output_type": "stream",
     "text": [
      "Train set: 10000\n",
      "Valid set: 10000\n",
      "0: 1000\n",
      "6: 1000\n",
      "2: 1000\n",
      "7: 1000\n",
      "1: 1000\n",
      "4: 1000\n",
      "5: 1000\n",
      "3: 1000\n",
      "8: 1000\n",
      "9: 1000\n",
      "\n"
     ]
    },
    {
     "name": "stderr",
     "output_type": "stream",
     "text": [
      "                                                                          \r"
     ]
    },
    {
     "name": "stdout",
     "output_type": "stream",
     "text": [
      "Train set: 10000\n",
      "Valid set: 10000\n",
      "0: 1000\n",
      "6: 1000\n",
      "2: 1000\n",
      "7: 1000\n",
      "1: 1000\n",
      "4: 1000\n",
      "5: 1000\n",
      "3: 1000\n",
      "8: 1000\n",
      "9: 1000\n",
      "\n"
     ]
    },
    {
     "name": "stderr",
     "output_type": "stream",
     "text": [
      "                                                                          \r"
     ]
    },
    {
     "name": "stdout",
     "output_type": "stream",
     "text": [
      "Train set: 10000\n",
      "Valid set: 10000\n",
      "0: 1000\n",
      "6: 1000\n",
      "2: 1000\n",
      "7: 1000\n",
      "1: 1000\n",
      "4: 1000\n",
      "5: 1000\n",
      "3: 1000\n",
      "8: 1000\n",
      "9: 1000\n",
      "\n"
     ]
    },
    {
     "name": "stderr",
     "output_type": "stream",
     "text": [
      "                                                                          \r"
     ]
    },
    {
     "name": "stdout",
     "output_type": "stream",
     "text": [
      "Train set: 10000\n",
      "Valid set: 10000\n",
      "0: 1000\n",
      "6: 1000\n",
      "2: 1000\n",
      "7: 1000\n",
      "1: 1000\n",
      "4: 1000\n",
      "5: 1000\n",
      "3: 1000\n",
      "8: 1000\n",
      "9: 1000\n",
      "\n"
     ]
    },
    {
     "name": "stderr",
     "output_type": "stream",
     "text": [
      "                                                                          \r"
     ]
    },
    {
     "name": "stdout",
     "output_type": "stream",
     "text": [
      "Train set: 10000\n",
      "Valid set: 10000\n",
      "0: 1000\n",
      "6: 1000\n",
      "2: 1000\n",
      "7: 1000\n",
      "1: 1000\n",
      "4: 1000\n",
      "5: 1000\n",
      "3: 1000\n",
      "8: 1000\n",
      "9: 1000\n",
      "\n"
     ]
    },
    {
     "name": "stderr",
     "output_type": "stream",
     "text": [
      "                                                                          \r"
     ]
    },
    {
     "name": "stdout",
     "output_type": "stream",
     "text": [
      "Train set: 10000\n",
      "Valid set: 10000\n",
      "0: 1000\n",
      "6: 1000\n",
      "2: 1000\n",
      "7: 1000\n",
      "1: 1000\n",
      "4: 1000\n",
      "5: 1000\n",
      "3: 1000\n",
      "8: 1000\n",
      "9: 1000\n",
      "\n"
     ]
    },
    {
     "name": "stderr",
     "output_type": "stream",
     "text": [
      "                                                                          \r"
     ]
    },
    {
     "name": "stdout",
     "output_type": "stream",
     "text": [
      "Train set: 10000\n",
      "Valid set: 10000\n",
      "0: 1000\n",
      "6: 1000\n",
      "2: 1000\n",
      "7: 1000\n",
      "1: 1000\n",
      "4: 1000\n",
      "5: 1000\n",
      "3: 1000\n",
      "8: 1000\n",
      "9: 1000\n",
      "\n"
     ]
    },
    {
     "name": "stderr",
     "output_type": "stream",
     "text": [
      "                                                                          \r"
     ]
    },
    {
     "name": "stdout",
     "output_type": "stream",
     "text": [
      "Train set: 10000\n",
      "Valid set: 10000\n",
      "0: 1000\n",
      "6: 1000\n",
      "2: 1000\n",
      "7: 1000\n",
      "1: 1000\n",
      "4: 1000\n",
      "5: 1000\n",
      "3: 1000\n",
      "8: 1000\n",
      "9: 1000\n",
      "\n"
     ]
    },
    {
     "name": "stderr",
     "output_type": "stream",
     "text": [
      "                                                                          \r"
     ]
    },
    {
     "name": "stdout",
     "output_type": "stream",
     "text": [
      "Train set: 10000\n",
      "Valid set: 10000\n",
      "0: 1000\n",
      "6: 1000\n",
      "2: 1000\n",
      "7: 1000\n",
      "1: 1000\n",
      "4: 1000\n",
      "5: 1000\n",
      "3: 1000\n",
      "8: 1000\n",
      "9: 1000\n",
      "\n"
     ]
    },
    {
     "name": "stderr",
     "output_type": "stream",
     "text": [
      "                                                                          \r"
     ]
    },
    {
     "name": "stdout",
     "output_type": "stream",
     "text": [
      "Train set: 10000\n",
      "Valid set: 10000\n",
      "0: 1000\n",
      "6: 1000\n",
      "2: 1000\n",
      "7: 1000\n",
      "1: 1000\n",
      "4: 1000\n",
      "5: 1000\n",
      "3: 1000\n",
      "8: 1000\n",
      "9: 1000\n",
      "\n"
     ]
    },
    {
     "name": "stderr",
     "output_type": "stream",
     "text": [
      "                                                                          \r"
     ]
    },
    {
     "name": "stdout",
     "output_type": "stream",
     "text": [
      "Train set: 10000\n",
      "Valid set: 10000\n",
      "0: 1000\n",
      "6: 1000\n",
      "2: 1000\n",
      "7: 1000\n",
      "1: 1000\n",
      "4: 1000\n",
      "5: 1000\n",
      "3: 1000\n",
      "8: 1000\n",
      "9: 1000\n",
      "\n"
     ]
    },
    {
     "name": "stderr",
     "output_type": "stream",
     "text": [
      "                                                                          \r"
     ]
    },
    {
     "name": "stdout",
     "output_type": "stream",
     "text": [
      "Train set: 10000\n",
      "Valid set: 10000\n",
      "0: 1000\n",
      "6: 1000\n",
      "2: 1000\n",
      "7: 1000\n",
      "1: 1000\n",
      "4: 1000\n",
      "5: 1000\n",
      "3: 1000\n",
      "8: 1000\n",
      "9: 1000\n",
      "\n"
     ]
    },
    {
     "name": "stderr",
     "output_type": "stream",
     "text": [
      "                                                                          \r"
     ]
    },
    {
     "name": "stdout",
     "output_type": "stream",
     "text": [
      "Train set: 10000\n",
      "Valid set: 10000\n",
      "0: 1000\n",
      "6: 1000\n",
      "2: 1000\n",
      "7: 1000\n",
      "1: 1000\n",
      "4: 1000\n",
      "5: 1000\n",
      "3: 1000\n",
      "8: 1000\n",
      "9: 1000\n",
      "\n"
     ]
    },
    {
     "name": "stderr",
     "output_type": "stream",
     "text": [
      "                                                                          \r"
     ]
    },
    {
     "name": "stdout",
     "output_type": "stream",
     "text": [
      "Train set: 10000\n",
      "Valid set: 10000\n",
      "0: 1000\n",
      "6: 1000\n",
      "2: 1000\n",
      "7: 1000\n",
      "1: 1000\n",
      "4: 1000\n",
      "5: 1000\n",
      "3: 1000\n",
      "8: 1000\n",
      "9: 1000\n",
      "\n"
     ]
    },
    {
     "name": "stderr",
     "output_type": "stream",
     "text": [
      "                                                                          \r"
     ]
    },
    {
     "name": "stdout",
     "output_type": "stream",
     "text": [
      "Train set: 10000\n",
      "Valid set: 10000\n",
      "0: 1000\n",
      "6: 1000\n",
      "2: 1000\n",
      "7: 1000\n",
      "1: 1000\n",
      "4: 1000\n",
      "5: 1000\n",
      "3: 1000\n",
      "8: 1000\n",
      "9: 1000\n",
      "\n"
     ]
    },
    {
     "name": "stderr",
     "output_type": "stream",
     "text": [
      "                                                                          \r"
     ]
    },
    {
     "name": "stdout",
     "output_type": "stream",
     "text": [
      "Train set: 10000\n",
      "Valid set: 10000\n",
      "0: 1000\n",
      "6: 1000\n",
      "2: 1000\n",
      "7: 1000\n",
      "1: 1000\n",
      "4: 1000\n",
      "5: 1000\n",
      "3: 1000\n",
      "8: 1000\n",
      "9: 1000\n",
      "\n"
     ]
    },
    {
     "name": "stderr",
     "output_type": "stream",
     "text": [
      "                                                                          \r"
     ]
    },
    {
     "name": "stdout",
     "output_type": "stream",
     "text": [
      "Train set: 10000\n",
      "Valid set: 10000\n",
      "0: 1000\n",
      "6: 1000\n",
      "2: 1000\n",
      "7: 1000\n",
      "1: 1000\n",
      "4: 1000\n",
      "5: 1000\n",
      "3: 1000\n",
      "8: 1000\n",
      "9: 1000\n",
      "\n"
     ]
    },
    {
     "name": "stderr",
     "output_type": "stream",
     "text": [
      "                                                                          \r"
     ]
    },
    {
     "name": "stdout",
     "output_type": "stream",
     "text": [
      "Train set: 10000\n",
      "Valid set: 10000\n",
      "0: 1000\n",
      "6: 1000\n",
      "2: 1000\n",
      "7: 1000\n",
      "1: 1000\n",
      "4: 1000\n",
      "5: 1000\n",
      "3: 1000\n",
      "8: 1000\n",
      "9: 1000\n",
      "\n"
     ]
    }
   ],
   "source": [
    "import timm\n",
    "\n",
    "datafactory = custom_data_factory(\n",
    "    cifar_dataset['train'],\n",
    "    cifar_dataset['test'],\n",
    "    sample_num=1000,\n",
    "    train_transform=train_transform,\n",
    "    valid_transform=valid_transform\n",
    ")\n",
    "\n",
    "for model_type in ['resnet']:\n",
    "    if model_type == 'resnet':\n",
    "        model = timm.create_model('resnet50', pretrained=True, num_classes=len(datafactory.selected_items.keys()))\n",
    "    \n",
    "    if model_type == 'vit':\n",
    "        model = timm.create_model('vit_base_patch16_siglip_224.v2_webli', pretrained=True, num_classes=len(datafactory.selected_items.keys()))\n",
    "    \n",
    "    model.to('cuda')\n",
    "    optimizer = torch.optim.AdamW(model.parameters(), lr=1e-5, weight_decay=1e-6)\n",
    "    scheduler = torch.optim.lr_scheduler.CosineAnnealingWarmRestarts(\n",
    "        optimizer, \n",
    "        T_0=epochs//3,\n",
    "        T_mult=3,\n",
    "        eta_min=1e-6\n",
    "    )\n",
    "\n",
    "    train_history = {}\n",
    "    criterion = nn.CrossEntropyLoss()\n",
    "\n",
    "    datafactory.get_data_set()\n",
    "    train_loader, valid_loader = datafactory.get_data_loader()\n",
    "\n",
    "    for epoch in range(epochs):\n",
    "        model.train()\n",
    "        total_losses = []\n",
    "\n",
    "        for images, labels, selected_index in tqdm(train_loader, desc=f'Training epoch: {epoch+1}/200', leave=False):\n",
    "            images = images.to('cuda')\n",
    "            labels = labels.to('cuda')\n",
    "\n",
    "            optimizer.zero_grad()\n",
    "            \n",
    "            outputs = model(images)\n",
    "            \n",
    "            loss = criterion(outputs, labels)\n",
    "            \n",
    "            loss.mean().backward()\n",
    "            optimizer.step()\n",
    "\n",
    "            total_losses.append(loss.mean().item())\n",
    "            scheduler.step()\n",
    "            \n",
    "            datafactory.collect_losses(selected_index, labels.cpu(), [loss.cpu()])\n",
    "\n",
    "        valid_results = evaluate(model, valid_loader=valid_loader)\n",
    "        valid_results['loss'] = np.mean(total_losses)\n",
    "        train_history[epoch] = valid_results\n",
    "\n",
    "        train_loader, valid_loader = datafactory.renew_data_loader(resample_ratio=0.7)\n",
    "        for label, selected_items in datafactory.selected_items.items():\n",
    "            print(f'{label}: {len(selected_items)}', end='\\n')\n",
    "        print()\n",
    "        \n",
    "        with open(os.path.join(os.getcwd(), f'{model_type}_collect_losses_train_history.json'), 'w', encoding='utf-8-sig') as json_file:\n",
    "            json.dump(train_history, json_file, indent=2, ensure_ascii=False)"
   ]
  },
  {
   "cell_type": "code",
   "execution_count": null,
   "id": "f832cb59",
   "metadata": {},
   "outputs": [
    {
     "name": "stderr",
     "output_type": "stream",
     "text": [
      "                                                                            \r"
     ]
    },
    {
     "ename": "KeyboardInterrupt",
     "evalue": "",
     "output_type": "error",
     "traceback": [
      "\u001b[31m---------------------------------------------------------------------------\u001b[39m",
      "\u001b[31mKeyboardInterrupt\u001b[39m                         Traceback (most recent call last)",
      "\u001b[36mCell\u001b[39m\u001b[36m \u001b[39m\u001b[32mIn[16]\u001b[39m\u001b[32m, line 42\u001b[39m\n\u001b[32m     39\u001b[39m model.train()\n\u001b[32m     40\u001b[39m total_losses = []\n\u001b[32m---> \u001b[39m\u001b[32m42\u001b[39m \u001b[43m\u001b[49m\u001b[38;5;28;43;01mfor\u001b[39;49;00m\u001b[43m \u001b[49m\u001b[43mimages\u001b[49m\u001b[43m,\u001b[49m\u001b[43m \u001b[49m\u001b[43mlabels\u001b[49m\u001b[43m,\u001b[49m\u001b[43m \u001b[49m\u001b[43mselected_index\u001b[49m\u001b[43m \u001b[49m\u001b[38;5;129;43;01min\u001b[39;49;00m\u001b[43m \u001b[49m\u001b[43mtqdm\u001b[49m\u001b[43m(\u001b[49m\u001b[43mtrain_loader\u001b[49m\u001b[43m,\u001b[49m\u001b[43m \u001b[49m\u001b[43mdesc\u001b[49m\u001b[43m=\u001b[49m\u001b[33;43mf\u001b[39;49m\u001b[33;43m'\u001b[39;49m\u001b[33;43mTraining epoch: \u001b[39;49m\u001b[38;5;132;43;01m{\u001b[39;49;00m\u001b[43mepoch\u001b[49m\u001b[43m+\u001b[49m\u001b[32;43m1\u001b[39;49m\u001b[38;5;132;43;01m}\u001b[39;49;00m\u001b[33;43m/200\u001b[39;49m\u001b[33;43m'\u001b[39;49m\u001b[43m,\u001b[49m\u001b[43m \u001b[49m\u001b[43mleave\u001b[49m\u001b[43m=\u001b[49m\u001b[38;5;28;43;01mFalse\u001b[39;49;00m\u001b[43m)\u001b[49m\u001b[43m:\u001b[49m\n\u001b[32m     43\u001b[39m \u001b[43m    \u001b[49m\u001b[43mimages\u001b[49m\u001b[43m \u001b[49m\u001b[43m=\u001b[49m\u001b[43m \u001b[49m\u001b[43mimages\u001b[49m\u001b[43m.\u001b[49m\u001b[43mto\u001b[49m\u001b[43m(\u001b[49m\u001b[33;43m'\u001b[39;49m\u001b[33;43mcuda\u001b[39;49m\u001b[33;43m'\u001b[39;49m\u001b[43m)\u001b[49m\n\u001b[32m     44\u001b[39m \u001b[43m    \u001b[49m\u001b[43mlabels\u001b[49m\u001b[43m \u001b[49m\u001b[43m=\u001b[49m\u001b[43m \u001b[49m\u001b[43mlabels\u001b[49m\u001b[43m.\u001b[49m\u001b[43mto\u001b[49m\u001b[43m(\u001b[49m\u001b[33;43m'\u001b[39;49m\u001b[33;43mcuda\u001b[39;49m\u001b[33;43m'\u001b[39;49m\u001b[43m)\u001b[49m\n",
      "\u001b[36mFile \u001b[39m\u001b[32mc:\\Users\\user\\AppData\\Local\\Programs\\Python\\Python312\\Lib\\site-packages\\tqdm\\std.py:1181\u001b[39m, in \u001b[36mtqdm.__iter__\u001b[39m\u001b[34m(self)\u001b[39m\n\u001b[32m   1178\u001b[39m time = \u001b[38;5;28mself\u001b[39m._time\n\u001b[32m   1180\u001b[39m \u001b[38;5;28;01mtry\u001b[39;00m:\n\u001b[32m-> \u001b[39m\u001b[32m1181\u001b[39m \u001b[43m    \u001b[49m\u001b[38;5;28;43;01mfor\u001b[39;49;00m\u001b[43m \u001b[49m\u001b[43mobj\u001b[49m\u001b[43m \u001b[49m\u001b[38;5;129;43;01min\u001b[39;49;00m\u001b[43m \u001b[49m\u001b[43miterable\u001b[49m\u001b[43m:\u001b[49m\n\u001b[32m   1182\u001b[39m \u001b[43m        \u001b[49m\u001b[38;5;28;43;01myield\u001b[39;49;00m\u001b[43m \u001b[49m\u001b[43mobj\u001b[49m\n\u001b[32m   1183\u001b[39m \u001b[43m        \u001b[49m\u001b[38;5;66;43;03m# Update and possibly print the progressbar.\u001b[39;49;00m\n\u001b[32m   1184\u001b[39m \u001b[43m        \u001b[49m\u001b[38;5;66;43;03m# Note: does not call self.update(1) for speed optimisation.\u001b[39;49;00m\n",
      "\u001b[36mFile \u001b[39m\u001b[32mc:\\Users\\user\\AppData\\Local\\Programs\\Python\\Python312\\Lib\\site-packages\\torch\\utils\\data\\dataloader.py:708\u001b[39m, in \u001b[36m_BaseDataLoaderIter.__next__\u001b[39m\u001b[34m(self)\u001b[39m\n\u001b[32m    705\u001b[39m \u001b[38;5;28;01mif\u001b[39;00m \u001b[38;5;28mself\u001b[39m._sampler_iter \u001b[38;5;129;01mis\u001b[39;00m \u001b[38;5;28;01mNone\u001b[39;00m:\n\u001b[32m    706\u001b[39m     \u001b[38;5;66;03m# TODO(https://github.com/pytorch/pytorch/issues/76750)\u001b[39;00m\n\u001b[32m    707\u001b[39m     \u001b[38;5;28mself\u001b[39m._reset()  \u001b[38;5;66;03m# type: ignore[call-arg]\u001b[39;00m\n\u001b[32m--> \u001b[39m\u001b[32m708\u001b[39m data = \u001b[38;5;28;43mself\u001b[39;49m\u001b[43m.\u001b[49m\u001b[43m_next_data\u001b[49m\u001b[43m(\u001b[49m\u001b[43m)\u001b[49m\n\u001b[32m    709\u001b[39m \u001b[38;5;28mself\u001b[39m._num_yielded += \u001b[32m1\u001b[39m\n\u001b[32m    710\u001b[39m \u001b[38;5;28;01mif\u001b[39;00m (\n\u001b[32m    711\u001b[39m     \u001b[38;5;28mself\u001b[39m._dataset_kind == _DatasetKind.Iterable\n\u001b[32m    712\u001b[39m     \u001b[38;5;129;01mand\u001b[39;00m \u001b[38;5;28mself\u001b[39m._IterableDataset_len_called \u001b[38;5;129;01mis\u001b[39;00m \u001b[38;5;129;01mnot\u001b[39;00m \u001b[38;5;28;01mNone\u001b[39;00m\n\u001b[32m    713\u001b[39m     \u001b[38;5;129;01mand\u001b[39;00m \u001b[38;5;28mself\u001b[39m._num_yielded > \u001b[38;5;28mself\u001b[39m._IterableDataset_len_called\n\u001b[32m    714\u001b[39m ):\n",
      "\u001b[36mFile \u001b[39m\u001b[32mc:\\Users\\user\\AppData\\Local\\Programs\\Python\\Python312\\Lib\\site-packages\\torch\\utils\\data\\dataloader.py:764\u001b[39m, in \u001b[36m_SingleProcessDataLoaderIter._next_data\u001b[39m\u001b[34m(self)\u001b[39m\n\u001b[32m    762\u001b[39m \u001b[38;5;28;01mdef\u001b[39;00m\u001b[38;5;250m \u001b[39m\u001b[34m_next_data\u001b[39m(\u001b[38;5;28mself\u001b[39m):\n\u001b[32m    763\u001b[39m     index = \u001b[38;5;28mself\u001b[39m._next_index()  \u001b[38;5;66;03m# may raise StopIteration\u001b[39;00m\n\u001b[32m--> \u001b[39m\u001b[32m764\u001b[39m     data = \u001b[38;5;28;43mself\u001b[39;49m\u001b[43m.\u001b[49m\u001b[43m_dataset_fetcher\u001b[49m\u001b[43m.\u001b[49m\u001b[43mfetch\u001b[49m\u001b[43m(\u001b[49m\u001b[43mindex\u001b[49m\u001b[43m)\u001b[49m  \u001b[38;5;66;03m# may raise StopIteration\u001b[39;00m\n\u001b[32m    765\u001b[39m     \u001b[38;5;28;01mif\u001b[39;00m \u001b[38;5;28mself\u001b[39m._pin_memory:\n\u001b[32m    766\u001b[39m         data = _utils.pin_memory.pin_memory(data, \u001b[38;5;28mself\u001b[39m._pin_memory_device)\n",
      "\u001b[36mFile \u001b[39m\u001b[32mc:\\Users\\user\\AppData\\Local\\Programs\\Python\\Python312\\Lib\\site-packages\\torch\\utils\\data\\_utils\\fetch.py:52\u001b[39m, in \u001b[36m_MapDatasetFetcher.fetch\u001b[39m\u001b[34m(self, possibly_batched_index)\u001b[39m\n\u001b[32m     50\u001b[39m         data = \u001b[38;5;28mself\u001b[39m.dataset.__getitems__(possibly_batched_index)\n\u001b[32m     51\u001b[39m     \u001b[38;5;28;01melse\u001b[39;00m:\n\u001b[32m---> \u001b[39m\u001b[32m52\u001b[39m         data = [\u001b[38;5;28;43mself\u001b[39;49m\u001b[43m.\u001b[49m\u001b[43mdataset\u001b[49m\u001b[43m[\u001b[49m\u001b[43midx\u001b[49m\u001b[43m]\u001b[49m \u001b[38;5;28;01mfor\u001b[39;00m idx \u001b[38;5;129;01min\u001b[39;00m possibly_batched_index]\n\u001b[32m     53\u001b[39m \u001b[38;5;28;01melse\u001b[39;00m:\n\u001b[32m     54\u001b[39m     data = \u001b[38;5;28mself\u001b[39m.dataset[possibly_batched_index]\n",
      "\u001b[36mCell\u001b[39m\u001b[36m \u001b[39m\u001b[32mIn[7]\u001b[39m\u001b[32m, line 15\u001b[39m, in \u001b[36mcustom_dataset.__getitem__\u001b[39m\u001b[34m(self, index)\u001b[39m\n\u001b[32m     12\u001b[39m selected_index = \u001b[38;5;28mself\u001b[39m.image_indexes[index]\n\u001b[32m     14\u001b[39m _image = \u001b[38;5;28mself\u001b[39m.dataset[selected_index][\u001b[33m'\u001b[39m\u001b[33mimg\u001b[39m\u001b[33m'\u001b[39m]\n\u001b[32m---> \u001b[39m\u001b[32m15\u001b[39m _image = \u001b[38;5;28;43mself\u001b[39;49m\u001b[43m.\u001b[49m\u001b[43mtransform\u001b[49m\u001b[43m(\u001b[49m\u001b[43m_image\u001b[49m\u001b[43m)\u001b[49m\n\u001b[32m     17\u001b[39m _label = \u001b[38;5;28mself\u001b[39m.dataset[selected_index][\u001b[33m'\u001b[39m\u001b[33mlabel\u001b[39m\u001b[33m'\u001b[39m]\n\u001b[32m     19\u001b[39m \u001b[38;5;28;01mreturn\u001b[39;00m _image, _label, selected_index\n",
      "\u001b[36mFile \u001b[39m\u001b[32mc:\\Users\\user\\AppData\\Local\\Programs\\Python\\Python312\\Lib\\site-packages\\torchvision\\transforms\\transforms.py:95\u001b[39m, in \u001b[36mCompose.__call__\u001b[39m\u001b[34m(self, img)\u001b[39m\n\u001b[32m     93\u001b[39m \u001b[38;5;28;01mdef\u001b[39;00m\u001b[38;5;250m \u001b[39m\u001b[34m__call__\u001b[39m(\u001b[38;5;28mself\u001b[39m, img):\n\u001b[32m     94\u001b[39m     \u001b[38;5;28;01mfor\u001b[39;00m t \u001b[38;5;129;01min\u001b[39;00m \u001b[38;5;28mself\u001b[39m.transforms:\n\u001b[32m---> \u001b[39m\u001b[32m95\u001b[39m         img = \u001b[43mt\u001b[49m\u001b[43m(\u001b[49m\u001b[43mimg\u001b[49m\u001b[43m)\u001b[49m\n\u001b[32m     96\u001b[39m     \u001b[38;5;28;01mreturn\u001b[39;00m img\n",
      "\u001b[36mFile \u001b[39m\u001b[32mc:\\Users\\user\\AppData\\Local\\Programs\\Python\\Python312\\Lib\\site-packages\\torch\\nn\\modules\\module.py:1739\u001b[39m, in \u001b[36mModule._wrapped_call_impl\u001b[39m\u001b[34m(self, *args, **kwargs)\u001b[39m\n\u001b[32m   1737\u001b[39m     \u001b[38;5;28;01mreturn\u001b[39;00m \u001b[38;5;28mself\u001b[39m._compiled_call_impl(*args, **kwargs)  \u001b[38;5;66;03m# type: ignore[misc]\u001b[39;00m\n\u001b[32m   1738\u001b[39m \u001b[38;5;28;01melse\u001b[39;00m:\n\u001b[32m-> \u001b[39m\u001b[32m1739\u001b[39m     \u001b[38;5;28;01mreturn\u001b[39;00m \u001b[38;5;28;43mself\u001b[39;49m\u001b[43m.\u001b[49m\u001b[43m_call_impl\u001b[49m\u001b[43m(\u001b[49m\u001b[43m*\u001b[49m\u001b[43margs\u001b[49m\u001b[43m,\u001b[49m\u001b[43m \u001b[49m\u001b[43m*\u001b[49m\u001b[43m*\u001b[49m\u001b[43mkwargs\u001b[49m\u001b[43m)\u001b[49m\n",
      "\u001b[36mFile \u001b[39m\u001b[32mc:\\Users\\user\\AppData\\Local\\Programs\\Python\\Python312\\Lib\\site-packages\\torch\\nn\\modules\\module.py:1750\u001b[39m, in \u001b[36mModule._call_impl\u001b[39m\u001b[34m(self, *args, **kwargs)\u001b[39m\n\u001b[32m   1745\u001b[39m \u001b[38;5;66;03m# If we don't have any hooks, we want to skip the rest of the logic in\u001b[39;00m\n\u001b[32m   1746\u001b[39m \u001b[38;5;66;03m# this function, and just call forward.\u001b[39;00m\n\u001b[32m   1747\u001b[39m \u001b[38;5;28;01mif\u001b[39;00m \u001b[38;5;129;01mnot\u001b[39;00m (\u001b[38;5;28mself\u001b[39m._backward_hooks \u001b[38;5;129;01mor\u001b[39;00m \u001b[38;5;28mself\u001b[39m._backward_pre_hooks \u001b[38;5;129;01mor\u001b[39;00m \u001b[38;5;28mself\u001b[39m._forward_hooks \u001b[38;5;129;01mor\u001b[39;00m \u001b[38;5;28mself\u001b[39m._forward_pre_hooks\n\u001b[32m   1748\u001b[39m         \u001b[38;5;129;01mor\u001b[39;00m _global_backward_pre_hooks \u001b[38;5;129;01mor\u001b[39;00m _global_backward_hooks\n\u001b[32m   1749\u001b[39m         \u001b[38;5;129;01mor\u001b[39;00m _global_forward_hooks \u001b[38;5;129;01mor\u001b[39;00m _global_forward_pre_hooks):\n\u001b[32m-> \u001b[39m\u001b[32m1750\u001b[39m     \u001b[38;5;28;01mreturn\u001b[39;00m \u001b[43mforward_call\u001b[49m\u001b[43m(\u001b[49m\u001b[43m*\u001b[49m\u001b[43margs\u001b[49m\u001b[43m,\u001b[49m\u001b[43m \u001b[49m\u001b[43m*\u001b[49m\u001b[43m*\u001b[49m\u001b[43mkwargs\u001b[49m\u001b[43m)\u001b[49m\n\u001b[32m   1752\u001b[39m result = \u001b[38;5;28;01mNone\u001b[39;00m\n\u001b[32m   1753\u001b[39m called_always_called_hooks = \u001b[38;5;28mset\u001b[39m()\n",
      "\u001b[31mKeyboardInterrupt\u001b[39m: "
     ]
    }
   ],
   "source": [
    "for model_type in ['resnet']:\n",
    "    if model_type == 'resnet':\n",
    "        model = timm.create_model('resnet50', pretrained=True, num_classes=len(datafactory.selected_items.keys()))\n",
    "    \n",
    "    if model_type == 'vit':\n",
    "        model = timm.create_model('vit_base_patch16_siglip_224.v2_webli', pretrained=True, num_classes=len(datafactory.selected_items.keys()))\n",
    "    \n",
    "    model.to('cuda')\n",
    "    optimizer = torch.optim.AdamW(model.parameters(), lr=1e-5, weight_decay=1e-6)\n",
    "    scheduler = torch.optim.lr_scheduler.CosineAnnealingWarmRestarts(\n",
    "        optimizer, \n",
    "        T_0=epochs//3,\n",
    "        T_mult=3,\n",
    "        eta_min=1e-6\n",
    "    )\n",
    "\n",
    "    train_history = {}\n",
    "    criterion = nn.CrossEntropyLoss()\n",
    "\n",
    "    # datafactory.get_data_set()\n",
    "    # train_loader, valid_loader = datafactory.get_data_loader()\n",
    "\n",
    "    train_set = custom_dataset(cifar_dataset['train'], [i for i in range(0, 50000)], train_transform)\n",
    "    valid_set = custom_dataset(cifar_dataset['test'], [i for i in range(0, 10000)], valid_transform)\n",
    "\n",
    "    train_loader = DataLoader(\n",
    "        train_set, pin_memory=True,\n",
    "        batch_size=16,\n",
    "        num_workers=0,\n",
    "    )\n",
    "\n",
    "    valid_loader = DataLoader(\n",
    "        valid_set, pin_memory=True,\n",
    "        batch_size=16,\n",
    "        num_workers=0,\n",
    "    )\n",
    "\n",
    "    for epoch in range(epochs):\n",
    "        model.train()\n",
    "        total_losses = []\n",
    "\n",
    "        for images, labels, selected_index in tqdm(train_loader, desc=f'Training epoch: {epoch+1}/200', leave=False):\n",
    "            images = images.to('cuda')\n",
    "            labels = labels.to('cuda')\n",
    "\n",
    "            optimizer.zero_grad()\n",
    "            \n",
    "            outputs = model(images)\n",
    "            \n",
    "            loss = criterion(outputs, labels)\n",
    "            \n",
    "            loss.mean().backward()\n",
    "            optimizer.step()\n",
    "\n",
    "            total_losses.append(loss.mean().item())\n",
    "            scheduler.step()\n",
    "\n",
    "        valid_results = evaluate(model, valid_loader=valid_loader)\n",
    "        valid_results['loss'] = np.mean(total_losses)\n",
    "        train_history[epoch] = valid_results\n",
    "        \n",
    "        with open(os.path.join(os.getcwd(), f'{model_type}_base_loader_train_history.json'), 'w', encoding='utf-8-sig') as json_file:\n",
    "            json.dump(train_history, json_file, indent=2, ensure_ascii=False)"
   ]
  },
  {
   "cell_type": "code",
   "execution_count": null,
   "id": "25d70d3b",
   "metadata": {},
   "outputs": [
    {
     "ename": "NameError",
     "evalue": "name 'model' is not defined",
     "output_type": "error",
     "traceback": [
      "\u001b[31m---------------------------------------------------------------------------\u001b[39m",
      "\u001b[31mNameError\u001b[39m                                 Traceback (most recent call last)",
      "\u001b[36mCell\u001b[39m\u001b[36m \u001b[39m\u001b[32mIn[32]\u001b[39m\u001b[32m, line 1\u001b[39m\n\u001b[32m----> \u001b[39m\u001b[32m1\u001b[39m optimizer = torch.optim.AdamW(\u001b[43mmodel\u001b[49m.parameters(), lr=config.lr, weight_decay=config.weight_decay)\n\u001b[32m      2\u001b[39m scheduler = torch.optim.lr_scheduler.CosineAnnealingWarmRestarts(\n\u001b[32m      3\u001b[39m     optimizer, \n\u001b[32m      4\u001b[39m     T_0=\u001b[32m200\u001b[39m//\u001b[32m3\u001b[39m,\n\u001b[32m      5\u001b[39m     T_mult=\u001b[32m3\u001b[39m,\n\u001b[32m      6\u001b[39m     eta_min=\u001b[32m1e-5\u001b[39m\n\u001b[32m      7\u001b[39m     )\n",
      "\u001b[31mNameError\u001b[39m: name 'model' is not defined"
     ]
    }
   ],
   "source": [
    "optimizer = torch.optim.AdamW(model.parameters(), lr=1e-5, weight_decay=1e-6)\n",
    "scheduler = torch.optim.lr_scheduler.CosineAnnealingWarmRestarts(\n",
    "    optimizer, \n",
    "    T_0=200//3,\n",
    "    T_mult=3,\n",
    "    eta_min=1e-6\n",
    "    )"
   ]
  },
  {
   "cell_type": "code",
   "execution_count": null,
   "id": "1f0ba27c",
   "metadata": {},
   "outputs": [
    {
     "name": "stdout",
     "output_type": "stream",
     "text": [
      "Train set: 10000\n",
      "Valid set: 10000\n"
     ]
    }
   ],
   "source": [
    "train_dataset, test_dataset = datafactory.get_data_set()"
   ]
  },
  {
   "cell_type": "code",
   "execution_count": null,
   "id": "138e2ce9",
   "metadata": {},
   "outputs": [],
   "source": [
    "vanila_train_dataloader = DataLoader(cifar_dataset['train'], batch_size = 16, shuffle=False, num_workers=4, worker_init_fn=worker_init_fn)\n",
    "vanila_valid_dataloader = DataLoader(cifar_dataset['test'], batch_size = 16, shuffle=False, num_workers=4, worker_init_fn=worker_init_fn)"
   ]
  },
  {
   "cell_type": "code",
   "execution_count": null,
   "id": "716d5459",
   "metadata": {},
   "outputs": [],
   "source": []
  },
  {
   "cell_type": "code",
   "execution_count": null,
   "id": "e5a482b1",
   "metadata": {},
   "outputs": [],
   "source": []
  }
 ],
 "metadata": {
  "kernelspec": {
   "display_name": "Python 3",
   "language": "python",
   "name": "python3"
  },
  "language_info": {
   "codemirror_mode": {
    "name": "ipython",
    "version": 3
   },
   "file_extension": ".py",
   "mimetype": "text/x-python",
   "name": "python",
   "nbconvert_exporter": "python",
   "pygments_lexer": "ipython3",
   "version": "3.12.10"
  }
 },
 "nbformat": 4,
 "nbformat_minor": 5
}
